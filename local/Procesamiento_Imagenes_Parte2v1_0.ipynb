{
 "cells": [
  {
   "cell_type": "markdown",
   "metadata": {
    "id": "1HZgct1dFOvA"
   },
   "source": [
    "## Procesamiento de Imágenes Digitales"
   ]
  },
  {
   "cell_type": "markdown",
   "metadata": {
    "id": "nb5BU5aPFTpT"
   },
   "source": [
    "Inteligencia Artificial 2025 I <br>\n",
    "Examen Parcial, parte práctica de la evaluación (12 puntos)."
   ]
  },
  {
   "cell_type": "markdown",
   "metadata": {
    "id": "NuQPtyJ1FYhO"
   },
   "source": [
    "**Integrantes:**\n",
    "\n",
    "1.   Integrante 1:\n",
    "2.   Integrante 2:\n"
   ]
  },
  {
   "cell_type": "markdown",
   "metadata": {
    "id": "HwPqORypFh0j"
   },
   "source": [
    "Los objetivos de esta práctica son:\n",
    "\n",
    "* Desarrollar y analizar rutinas de transformaciones puntuales en el procesamiento de imágenes.\n",
    "* Repasar conceptos clave en el filtrado de imágenes y programar rutinas para suavizar y resaltar bordes."
   ]
  },
  {
   "cell_type": "markdown",
   "metadata": {
    "id": "2vBHosxRFkxl"
   },
   "source": [
    "## Requerimientos"
   ]
  },
  {
   "cell_type": "markdown",
   "metadata": {
    "id": "yvnbF7t7Fmnw"
   },
   "source": [
    "Se necesita disponer del siguiente software:\n",
    "* Python 3.X\n",
    "* Las siguientes librerias científicas de Python: NumPy, SciPy, y Matplotlib.\n",
    "* OpenCV."
   ]
  },
  {
   "cell_type": "markdown",
   "metadata": {
    "id": "SiG4CijOFFX0"
   },
   "source": [
    "# 1 Operadores basados en la primera derivada\n",
    "\n",
    "La detección de bordes (Edge detection) es una técnica de procesamiento de imágenes para encontrar aquellos puntos en las imágenes que representan variaciones de brillo (cambios bruscos en los niveles de gris) o *bordes*. Tiene muchas aplicaciones para la segmentación de imágenes y la extracción de datos que se explicarán posteriormente en este curso.\n",
    "\n",
    "Como se ha comentado, los bordes pueden definirse como transiciones entre regiones de la imagen que tienen diferentes niveles de gris (intensidades). De esta forma, el modelo unidimensional y continuo de un borde ideal es:\n",
    "\n",
    "<img src=\"./imagenes/model_of_ideal_edge.PNG\" width=\"600\">\n",
    "\n",
    "<!--<img src='https://drive.google.com/uc?export=view&id=1a0_1V5E6WytNFmrA-kZEcFNBBCMweTOs' width=\"600\">-->\n",
    "\n",
    "---\n",
    "\n",
    "Sin embargo, en las imágenes reales ese modelo no es seguido exactamente por los bordes, ya que las imágenes son discretas y están corrompidas por el ruido.\n",
    "\n",
    "Además, **la naturaleza de los bordes puede ser diversa**:\n",
    "- bordes de oclusión\n",
    "- diferente orientación de las superficies\n",
    "- diferentes propiedades de reflectancia\n",
    "- diferentes texturas\n",
    "- efectos de iluminación: sombras, reflejos, etc.\n",
    "\n",
    "### Tipos de error relacionados con la detección de bordes\n",
    "\n",
    "Finding edges properly is not a straightforward task, as there exist different errors that can appear when applying edge detection techniques:\n",
    "- **Detection error.** A good detector exhibits low ratio of false negative and false positive, that is:\n",
    "  - Falsos negativos: Bordes existentes que no se detectan.\n",
    "  - Falsos positivos: Objetos detectados que no son reales.\n",
    "- **Error de localización.** Se detectan bordes, pero no están en la posición real y exacta.\n",
    "- **Respuesta múltiple.** Se producen múltiples detecciones para la misma arista ( el borde es grueso).\n",
    "\n",
    "La siguiente figura ilustra este tipo de errores.\n",
    "\n",
    "<img src=\"./imagenes/edge_errors.jpg\" width=\"400\">\n",
    "\n",
    "\n",
    "<!--<img src='https://drive.google.com/uc?export=view&id=1MLbgTBymqY07JzTArEfJONj8rPqAUpaR' width=\"400\">-->\n",
    "\n",
    "Por lo tanto, al diseñar un buen detector de bordes, el objetivo es lograr errores de detección y localización bajos, así como evitar respuestas múltiples."
   ]
  },
  {
   "cell_type": "markdown",
   "metadata": {
    "id": "oco2Fc12FFX1"
   },
   "source": [
    "### Operadores basados en la primera derivada (gradiente)\n",
    "\n",
    "En este notebook cubriremos los operadores basados en la **primera derivada**, que intentan detectar bordes fijándose en las diferencias bruscas de intensidad en los píxeles vecinos. En la imagen inferior podemos ver dos funciones  $f(x)$\n",
    " (primera fila) y cómo sus derivadas (segunda fila) alcanzan sus valores máximos en los puntos donde los valores de las funciones cambian más bruscamente (alrededor de $x_o$).\n",
    "\n",
    "\n",
    "<img src=\"./imagenes/first_derivative_of_continuous_function.PNG\" width=\"500\">$\\\\[10pt]$\n",
    "\n",
    "<!--\n",
    "<img src='https://drive.google.com/uc?export=view&id=1qFllASGI0vHwkMfXDGO6kM8aQS-xtmto' width=\"500\">$\\\\[10pt]$\n",
    "-->\n",
    "\n",
    "Si se trata de una **función continua bidimensional** $f(x,y)$, su derivada es un *vector* (**gradiente**) definido como:$\\\\[10pt]$\n",
    "$$\n",
    "\\nabla  f(x,y) =\n",
    "\\begin{bmatrix}\n",
    "\\frac{\\partial}{\\partial x}f(x,y) \\\\ \\frac{\\partial}{\\partial y}f(x,y)\n",
    "\\end{bmatrix}\n",
    "=\n",
    "\\begin{bmatrix}\n",
    "f_x(x,y) \\\\\n",
    "f_y(x,y)\n",
    "\\end{bmatrix}\n",
    "$$\n",
    "\n",
    "que apunta a la *dirección* de máxima variación (positiva) de $f(x,y)$:$\\\\[10pt]$\n",
    "\n",
    "$$\n",
    "\\alpha(x,y) = \\arctan \\left(\\frac{f_y(x,y)}{f_x(x,y)}\\right)\n",
    "$$\n",
    "\n",
    "y tiene un *módulo* proporcional a la fuerza de esta variación:$\\\\[10pt]$\n",
    "\n",
    "$$\n",
    "|\\nabla  f(x,y)| = \\sqrt{(f_x(x,y))^2 + (f_y(x,y))^2} \\approx |f_x(x,y)| + |f_y(x,y)|\n",
    "$$\n",
    "\n",
    "La siguiente imagen muestra ejemplos de vectores gradiente:$\\\\[10pt]$\n",
    "\n",
    "<img src=\"./imagenes/gradient_examples.PNG\" width=\"700\">$\\\\[10pt]$\n",
    "\n",
    "\n",
    "<!--\n",
    "<img src='https://drive.google.com/uc?export=view&id=1udNDgpPvk6LbfOqG6tNsr0v6vaxAUT3f' width=\"700\">$\\\\[10pt]$\n",
    "-->\n",
    "\n",
    "Concretamente, las técnicas basadas en la primera derivada exploradas aquí son:\n",
    "\n",
    "- Aproximaciones discretas de un **operador de gradiente** (Sobel, Prewitt, Roberts, etc., Sección 1.1).\n",
    "- El operador **Derivada del Gaussiano** (DroG) (apartado 1.2)."
   ]
  },
  {
   "cell_type": "markdown",
   "metadata": {
    "id": "RqPzxn-OFFX1"
   },
   "source": [
    "\n",
    "## Contexto del problema - Detección de bordes en imágenes médicas\n",
    "\n",
    "La detección de bordes en imágenes médicas es de vital importancia para el diagnóstico de diferentes enfermedades (por ejemplo, la detección de células tumorales) en órganos humanos como pulmones y próstatas, convirtiéndose en un paso de pre procesamiento esencial en la segmentación de imágenes médicas.\n",
    "\n",
    "\n",
    "<img src=\"./imagenes/hospital_clinico.jpg\" width=\"400\">\n",
    "\n",
    "<!--\n",
    "<img src='https://drive.google.com/uc?export=view&id=1G3v8hkH5TAy7QuLYf8vKikUqcGHMnUZD' width=\"400\">\n",
    "-->\n",
    "En este contexto, *Hospital Clínico*, un hospital muy concurrido de Arequipa está solicitando a estudiantes de ingeniería locales que se unan a su equipo de investigación. Buscan una persona con conocimientos en procesamiento de imágenes y, para asegurarlo, han publicado 3 imágenes médicas: `medical_1.jpg`, `medical_2.jpg` y `medical_3.jpg`. Nos han pedido que realicemos una detección de bordes precisa en las tres imágenes, así como una explicación de cómo se ha realizado."
   ]
  },
  {
   "cell_type": "code",
   "execution_count": 3,
   "metadata": {
    "id": "kZrE6xZBFFX1"
   },
   "outputs": [],
   "source": [
    "import numpy as np\n",
    "import cv2\n",
    "import matplotlib.pyplot as plt\n",
    "import matplotlib\n",
    "from ipywidgets import interactive, fixed, widgets\n",
    "from mpl_toolkits.mplot3d import Axes3D\n",
    "\n",
    "matplotlib.rcParams['figure.figsize'] = (15.0, 15.0)\n",
    "\n",
    "\n",
    "images_path = './imagenes/'\n",
    "#images_path = '/content/drive/MyDrive/docencia/claseIA2024/pc2/elaboracion/imagenes/'"
   ]
  },
  {
   "cell_type": "markdown",
   "metadata": {
    "id": "pD43ZC8_FFX2"
   },
   "source": [
    "Para afrontar este reto, vamos a utilizar varios métodos de detección de bordes, que se probarán y compararán para determinar la mejor opción."
   ]
  },
  {
   "cell_type": "markdown",
   "metadata": {
    "id": "_5aWX-7RFFX2"
   },
   "source": [
    "### **<span style=\"color:green\"><b><i>Ejercicio 1: Observe y analice las imágenes</i></b></span>** (0.25 puntos)\n",
    "\n",
    "En primer lugar, **visualice las imágenes proporcionadas** para tener una idea de lo que estamos tratando.\n",
    "\n",
    "*Nota: Como la mayoría de las imágenes médicas no proporcionan información de color, vamos a utilizar la detección de bordes en imágenes en escala de grises.*\n",
    "\n",
    "*Consejo: Se pueden seguir diferentes enfoques para la detección de bordes en imágenes en color, como la conversión al espacio de color YCrCb (que no se ve en ese notebook), o la detección de bordes en cada canal RGB.\n"
   ]
  },
  {
   "cell_type": "code",
   "execution_count": null,
   "metadata": {
    "id": "_y1GaaiMFFX2"
   },
   "outputs": [],
   "source": [
    "# Ejercicio 1\n",
    "# Visualiza las imágenes proporcionadas en un gráfico 1x3 para ver de qué se trata\n",
    "# Escribe tu código aquí\n",
    "\n",
    "# Lee las imágenes\n",
    "\n",
    "\n",
    "# Y muéstralas\n"
   ]
  },
  {
   "cell_type": "markdown",
   "metadata": {
    "id": "KmWBeIhpFFX3"
   },
   "source": [
    "Llegados a este punto sabemos cómo realizar una aproximación discreta de un operador gradiente mediante la aplicación de una operación de convolución con dos kernels diferentes, esto es:\n",
    "\n",
    "$$\\nabla  F(x,y) =\n",
    "\\begin{bmatrix}\n",
    "F \\otimes H_C \\\\ F \\otimes H_R\n",
    "\\end{bmatrix}$$\n",
    "\n",
    "Pero, ¿cómo podríamos utilizar la salida de esos cálculos para detectar bordes? La siguiente figura lo aclara!\n",
    "\n",
    "\n",
    "<img src=\"./imagenes/how_to_detect_edges_with_gradient_image2.png\" width=\"350\">\n",
    "\n",
    "<!--\n",
    "<img src='https://drive.google.com/uc?export=view&id=10NvwqVLVL7yqY9P5DyJDr8WuKGNQOpAP' width=\"350\">\n",
    "-->\n",
    "\n",
    "**Tamaños de los Kernel**\n",
    "\n",
    "Como ya se ha comentado, los kernels pueden ser de distinto tamaño, y ese tamaño afecta directamente a la calidad de la detección y la localización (por ejemplo, Sobel $3\\times3$ o $5\\times5$):\n",
    "- Máscara pequeña:\n",
    "  - localización más precisa (buena localización).\n",
    "  - más afectada por el ruido (probablemente produce falsos positivos).\n",
    "- Máscara grande:\n",
    "  - localización menos precisa.\n",
    "  - más resistente al ruido (buen detector).\n",
    "  - mayor coste computacional ($O(N veces N)$)\n",
    "\n"
   ]
  },
  {
   "cell_type": "markdown",
   "metadata": {
    "id": "cGNUi9UvFFX2"
   },
   "source": [
    "## 1.1 Aproximaciones discretas de un operador gradiente\n",
    "\n",
    "El primer grupo de métodos que vamos a explorar realiza una **aproximación discreta de un operador de gradiente** basada en las diferencias entre niveles de gris (intensidad). Por ejemplo:\n",
    "\n",
    "\n",
    "\n",
    "\n",
    "![image.png](data:image/png;base64,iVBORw0KGgoAAAANSUhEUgAAAb8AAAEICAYAAADP3Pq/AAAAAXNSR0IArs4c6QAAAARnQU1BAACxjwv8YQUAAAAJcEhZcwAADsMAAA7DAcdvqGQAAGGGSURBVHhe7b0PWJRV3v//fszRblJHE7RBQ2u0ZfRi3MBdyIvxWbGWtmCNdkOvyA3lKxn4DeWHG6GFlJolD0qPmIuPSau0OZXsrlTytOGu8E3YFbaGS8cNSCRlUjBBzUnH3N85930PDMMAMwMM6Hxe1zUw95+5z7nP+Zzz+XzO3/8ICwv7NwiCIAjCixgm/ycIgiAIr4GUH0EQBOF1kPIjCIIgvA5SfgRBEITXQcqPIAiC8DqGhvITdEjcsA27du3CrnWx8kmCuNWIRSaT8cxF8uFgsyiTlblMFit3GWLvc0siIPjJTOTsZHUjrx935CDtET/5GqPPeei99KPykwqCmEHWz7ZNyHgqFEr5DhEhGHGpaYgNko8ZEc8uROj4VpS9nY3sghL57BDEQdxdIfQ5puC3piBUPh4IhOA4pKXGQisfDw3UiF23g8lDBmLU8ql+wROVrxz3HZmICxTkc8TNSOw6VifdbMb1nEQsna/CtWNFyMvJRsGHJ9BobpYvEn2h3z0/M8ukbJZJ2Tl50FeZ4f+fich8TsfsF5l7ZyNopgbBP9XIJ4IROFmApb4MBYeNMDa0yeeHIF3iPvSYen8QNDODETZTPjEAuFqJBD+9BHN9TSjZshFF9fLJmwS/6Bgp7puzUHjCLJ8lCM8QfP8UCFfrcGhrMaqPGVF2IB/6Q/JFok/0f7Pn9WYYWSYZj1WjZHcWVuuNGDFrIZLnydeP5SM9IQHpu4zyCQUULBbXr7bKx0OYLnEfehh3pSMhIR35x+QTQ4Dqt9dixYos6G8yxcdpPpB908aduPlR3DYCuGbBTVA73nT04wovvAkqEn5f5GPFG5XyOU4oUrYmQnOuCMs3FrNj6T58koCsd6XvAdKNDDMMu1Yg9zP2dVwE4ldFQTdJajQ1f2PAgbdyUSJWQtLvFDWVGH5fKPyuGZC/MheVggYxzz6N+Ro/CEyhWtoaUbb3dRRWSxY791gih1Wi+EogoqbLz/26DG+9VgD5FkAdiZSl0dDeJfmqjsKV4s6PlQh9aiUWhgdAqWCHN8ww1RzA7jdK4Kiu5M2eifc2oPRfY/FAsEqKY4sRRfnZ8vMBITAKiYsfbg8f7B1Kbd6Bo344BUuitFDxW+zD5H0ADwElCazC5scsTaKWxeHhICk83GhD46G9eP2dapbajujhneakYFuCtsOLt+YX+PnpaDjahKnBaghnSpCwTg/lT+OwcpEOAeKD7NOSwfMrZRki1UrRAILZBEPxbuQedJR6DNu8EePVgOGzNDC35weL/bx4rI7WQcWz18n8qPrGH1o5DvZxlO6pFeWrhaXt6of8UPfuamR/wlJP0CHl1XhoLpZi80uFYhg9h28vP73dr0TEs6vxuCwrTKDReLiHvHM1r+1lheWs5lfJeHqeBn6OZKsLrpaHbsotK+tJaY8jpD1fj6L1Xh3uqOhIJ/v6wL5sd0WNyOeWIFpOC56vDcO00FyVZFOkl/qiM13zDmJ5mI5auc5yVL5xwQj9m66Vbwmp3tSOlg8ZZl63Hg3rFKbL5X1mIjalhgKfZYtGvCZhE9LmAJU5Q8tg9gQ8eQaYSpiY2aJQ+qNrY6EeWQn5MFySMjYhQc5QaJGYHoew2wwoEJtQ9Tg+XIPYRCYM4u8kVDMDcfEfpSgtq0YjK7hRq1IQNbkFB38nNbuWtvghInEVojpqa2BSKHTXSsX287w/Mg/ubh1in5Rjxiuz5FhohteiiAls9ptFaBC0iE1OcthPp3pqNRLnKdH0YR6y1qxF3p8b4DMrFkueUsl3OGC0Bg/4GrFvK3v+25VoVWoQvSBCvhiB5BUxLJ2OomDTWqx9pQBlZhUiliazKxJCeAqSn9Bg+JdSH4A1zORkxz2JEc8mI2YGcHTPRqxdk4WCz65ANX9phyduR4/v9FkuVjDPt+RrduPXrBJpzy8OqziDfHD8EMuP/3eCpXMcVj8TAaWpGHmvsHfJk9NyaRysqcPjFjX1Cir2SPlVdMoH2ieWIG6SfEMn1Ij/P7HQWvuGt+6DUTkVNl3/wKxEvPBUGFBTIDW9649j+IxYLHumhx5Qlh/TfihFPsuPvD8acHl85zjaUv9uPkobhkPzaKIoD9rfPArt7SYWH0nxuRx+L/fzvIib7YOGP+eJ1wsqe847V/PaHtUTv0XKI9NwvUqKT7ts2XZb9ICz5aFzuWX5+ts4hHTK19nQ2FT6XBEkvRgH3agmqVzmFKCCl4vE3yK2mz5k9dPLEDvLF62fSe+yzzgWUyfIF0WcrC9chcmTTlXXXr6bRzEF+0SUfLH38t1BJXJXJiD/C6ayLjEjgZW7zk6FY3qVga+MOFFbjxP/ahAPG/51AvW1J2D8Sjz0Kjyg/GRGChgjf+2V6CgE+zajYjsTDrEJtQTbDxhh9g1E+Gz5HkZz+WZs3F2Iwg/KYJq5GOGsIBg/zkbxUanZVb/lCEwKNUKsssc5V4bNOVL7efWBD2FoAfz85REsURHQKlm4+bnSM44WI/v9KjTf7o9Zs6RbbGn9y25kb9qMvAOsEH9jYs8rwymmyMfe2eHLduGqEQdeKZTe63A+qr9hxXDiNNkwqBKtxI3Z7L1rTTA1lKGgxsRuuAO+4nWWNPO0UJ6rwM43rO/ACvbRZvj4z3I4yKVqP6s4WRwLDtfD9A2zbHcbYGIF/46J8g12uPVOIhYYi9Zi+zssPz4xAN+WYnfORmzexuLZwN6luhhlDawg3+Hb7un73sFqmQt1KON9vSy/it8pQvGnLH6dKj6Z2ZHQTrCg/uAGqW/4WBkKXznMKs8Ooh4Nhh9Lm7zdZew6u+eT7fjwhBl+PwpHsHxPF1jFUrTZmpa5yC1n6X1XECIdKmAT9G+VovF2LWJWpuDJn/qh+chuFMpWvavh93a/SunD5KUJNX+pFq+X7daj6NMjOPFdJ5Xfjqt53RlmhM1mOVNfgg1yfLhs5ZU3QzkrAtFOKARnZadzuZ2PwF7yFdHzWblsQxVTjlLZZuVifRGMNwIw91FHRl8wImf5wWLzLmV7s3CYG21WnK0vXIWV76KX5HqLle/yRgsUEwLk/O+9fPeVXmXAzMLctBEF5ZKnaS4vwMZNXAmLh16Fk8qPu+A2ozjdGTF11YyL8tfeCA7whYLZ9LqXbcJcwpvbRkAxQr6JYb7KBMfKDBX7hQKaRTa/2RYhWfC3iXdIXL3ChMGKEa080+XroSpWqVwyod62jeez7UhPWsssMPnYBjNTXAEPJmPDDmuYnZspHOKo/b7dMGhD88hgPJUuT/vgn4dsK45QqMazcM/Wd2qGqnwzHcvXMA9aPral7ayA4EUvYJt1qPQu22bmrrj1TiLXYflO/soxs1S+OxLJG3bIz9mFxFmda9ADh6rQ5qtDxs5t2PRyGhJZDVFRpEcpcxy7MM0PSpZyTf/orpQGI8BXAUzQYb0cHv/EB7EwhymYZHTPNfk/x/RVM8wYBeUU+YQ9Z/TY+9dGjA3SMsVVhp1vW3PC1fB7v7/6YAVTAhrEvrEDORsykMI8KNPHhSj+u+PRfq7mdWeCoGI1cEvDwU5NpPX/MrFjP6jul0/0gLOy07XctqKltvvaN/QefygunUKNbRk0l6DxHNMbdzrKqGnwUzJlfKbCcXMvx9n6wlXsynfz5es2+d9b+e47fZMB78JJ5WeAPo83Dcgfl6YjsAp7LG9Pb2KqxjnETt6r9Sixhtf+2QL9P+Wb7BEFthlVu+x/k43dAzR7QvsMb1oZjlMf5iI1IQEJchOu2whRWJUYAX/zERSsWcGex575SScb2EV4004iIiabcYQPOhHjyCoN+aoj+u2dZiVi2RNaDG8sRm4af47chGODuXw7Up9bizz9YXzVOhaBv4zH+s0ZiHLodXGYgv1W/toFaeAUt/bt8z87T+/QMHAbZqyIldlIHxuL3dXwnbi/Xo+spFRk7SmG4awCqrBYpLy6CYlzxAfY4Xpe9zduyc73FljYv2sDMKLjuqWHhw5CfdH/5duewZeBmwknlZ8ZplreNCB/XJiOoF70MDSjzag7wge7OEeliVm2I/2hUtqEeawBDV8xV747U66umdlVY+EX0GrzGyP7TQMaL8j39IIY7mgV1LaV70xW4byYglgHUwcCuaf4TTVyDxhY2Bwbt9Qd7lfDX2FG7f8Wouwb6UUFZjV2UAnTeXZuorpTn5TmiRRkroyVm05t0UI9QQHzlwdRWM4teIZgtUId02/vpOGWtQnVW1nFLaf/iE7SpkN8RiaSHmQezid65OesReqmMjQLaoTo5FtsqTGxqsoXUyK7a3+T0kYxQYUxNvlvZPnfUCu/ezfYvqHqXj9WhVxG2yn5hD3qeCyb64fmv5eh0ScEC9v7Wl0Nv7f71Yh5LhMZTwWi8XAxCt7IQvpqPYw3/KCd7aipz/W87kwNTC2A79SH2ft3oP6Rih03w9Sd0WmDW7LzVQvzlMbC/yfd5StLqZNNsIyegiDbrgeBeTQTWM30raOMcvwunXCzvlAM6z6evdJr+e4rfZUB78JJ5ecCw/2gmalhHx2insnEKubWX/liH/JcmZtSXApDmwDtk5mIm8ufpYFuyRps4V5Bp05rG46WoOJrIOBnKUiJDhZ/Exydhg1vbBCb05xCDNcPYc8lIZK/w+wopPwmAtpxFpxyMBKq5SITr7vDkCaGp0PciwvFZp7hoxz3yfTKKV4RCNA8Gg+dGH+m1OZyNSdgrKx8DxxiFcuEMKQ8Gym/Ywqenq+F0nLKgWfdiJbv2K9nRCOepyN/n3U6UXEKSsdzFZ15pyvXmK3uG4ComUwJd1cXnP2OFb4AhK2OQjDPv6cysZA36d1+B1OKnDpcuU2FkMjEjjyeO41VR2Z8d1a8oTPHPsWJcwqoH14jvYsYt7mdmnTEtBmtxWI+OILnH7sn/oUt2JwRJYfpgNEaPPqcFEfN3Hgkh6tg+boaJWfk651QI+7pMPi1VOKd3xVg75FmKIMXIkn2xFwNv+f769H0gxLq8JgOeX4wCP4jgdZvHdnyrud1Z4w4cJQ9Vx2JNUt0UnhMtpaF+qHti1IckOrqHnGrPBw7gGpWbnvKVxz4lJVLJUKeTkPUbPmetGhohjXi8IeOBoEY8enxZihs3oXL39y75cscl+sLSaGqZidLceDpu0DTvXJ1hBPlu284IQMCk7H0DMSHSzEXwuORkc7i0wedfrPS78pPmBmDtNQ09olHlEZA06F8ZL1RJlkhzmIuQ26eHlXfKhHBBJ4/Lz4IqPggD8Xn5Hu6UA/9a3w0HjD9l8nib5IjfdF0cCf2VMu39IYcrvH6DMTyd3g2BtOvG6HP287s9K6UvvmWGJ7mMR5ePEJwBFWs0lSM9u3kmTnNmULsfs+AFiUTUDH+zHeqNLK0G4sx/tIt5vJc5L1nxHXmkYrv+MvpuH5cj7w8RzE0ofAtPQznx0LH0/GZh+F3pgJGPghhjOOeAGfeqfiv1WgepkFMajJiuiu0h/Lw1qesMr0vBsk8/1iFcuSoiT1oDHxFz9oEfTbLr7NK6BbLeRwyHHUf5XVjKNWj4PVCVFnfZeVCaNqOo/GqfJkhpU0VWvmweJ5/LP5aVGD/m8XMd+mGS43Mg4tA4kp2/9M6jD1fBX2u3qZfuAP1k0ugm3QdhgN7xGbJ+rffQWULq5QXJCGYVR6uht/b/ZV5edAfv94hz7/0x5XyQmze6yh2rue1Pab3XkfuR3UYHhIvhyfLlpPl173ywOSApbdtvgZ912SXXpXYzgeJXfZHzLNSOunGNaM0//Vu51/Wv/0qCo+2YOwc6V0WalpxvIE3sFpxtb4wYs8B5q2P4NMj5PT9yuhQTrrFifLdN5yQgXs1CJyuRuCPpoqHU38UCPX0QGjuFQ+9CtrJnfBabOfw9T6InBgwBAGC2dyhYCfFY9PLOpgPJiDrPfkcQfQz/d/sSRAE4TRqxL+0DZttm36TwuBnqUeV88MECMJlSPkRBDGI1GPf20Wovf2B9qbfMMGE0vwtKHapr4QgXIOaPQmCIAivgzw/giAIwusg5UcQBEF4HaT8CIIgCK+DlB9BEAThdZDyIwiCILwOUn4EQRCE13FTKz/hLjU0U6WdnT2OoIJ6ZgAGKfTBx0PvP6h57CE89Y7KqRqorTuI36x4Ubnr1/waF3Dz530/M2jz/ITwRGQ+GYqxXP2eL8X2NYUubTsj/T4QpveykHvI+V0m+g81YtetxtxrJdiysQjdLDHoeQQNIhY9ioigafAdrQAsFigU12GqOYjCPfUITklByNntSH2zD5v8CDokrotDoEmPrK2l8gr+A4Q6Fpmr58JycAs2/nEQU3lRprj3muWqBThdilUb9e3LcWkT1iMpxBeKkfL6+TcsPNnbaT/PaKvOQ2pex+KRnpRjITwFG55SoW5vFrbLm5l6nOg0bPvFNAg2aSKmqRWFtNWTSEMJEl7RywcMT8rdEKD7/ApG4quJCGYWgGLkdRh2r0BuuXzJIQJiMrZA15aPNUz2aO0AicFRfkIUMrbEQN1mgkmpgkphdiIDbZB/P+aLPGS9OYiZKcfD/3g+Vrwx+KtDKucl4YUnQuDH0rPxswM48PFhVPOtU8ZFIOXFOGhFc9kC43urkH3Q3VQTEMUKUozSgLx121Hd6THMIHhxNSKnAvUfLMfGj+TTLiKEJ2HD0yFQfluJ7Ofz0RCdgS2P+cO4i8nIZ/JNnoYrv7BWFKzMRZl8qjM6pGyNF3cxaC7fiPTdNoqaGSQxq5IRpRZg+nQF1r4jJ1pPcswq+qRX4hEyrhmVOenId7CrSO8I0CVvQDyrJZs/y0b6LiO0z2xCyv1mlLySBb3DnSs8gYC4l7chYhKTxhN6rNpcYvPuSoQ++wISZ/vBXFOAFVutqT3wcuc6AlThjyNxUQT86mzj6i6u5hczDHfNRWtvdeekOKx/OQRNb67B9qM84Zjc7WD1r9N7HTWiZAULv1Oa3/wMSrOnsCBETHjz5SsYzjPgUgNOVEnXeodv2BgF9fcGfFgwyFaMuRi7/9qI4bMWIsl2r7FBQP1YBrMSmeIbZkLZzjXI2l0iKT7OhVLkHuCrx3N63jW7N4ToVawS5zsb7LargDgaBKhYhl414dRX7jexTJ0eACWTzLYzdWhix2YWVunXw6F9PAla6ZahxyQ1VOKu5Ra0mHisbTAbUfTXWpb+Fly5Ip/rTY7vVSOAGysXTKize5zzTIV6MnvIjTaYvpIeYvhdEQzfByDi6RgWg8FirrhrPKe1pc7u3dtQyQwBvmnTtasdvp0n5M55YpCxfQd27NiCzKcjENBvQQ5MfqnmaaC6UIdyUfExorUIUFhg+rseedZNdQ/K22RZ6lG8gm+Cyz5p+ahqYecuteJUlzS/+RkU5Tf3bmmDk9b6LUhPy0JWVjZKnE3cWYsRzjRn8xfFKBsCGWJ6twJ1V5XQPjqIlQnfNT1azcI3w7hvMwr+7qBB6FANGvj2P5da0Oh2ZarF4nA1FOeOothhs1kxspNYoUnKQuEJ9zPHuDtdLHypb1ibtkzQ/786WMZpEfXY4FXZPRLsj7HilxaYKh28+2d8M97r+K5FvtabHB8rQPoyXgHlotTJzZi7YkTBC+wZy1JtmlQrof8n3+tOhyWDZbDNnALfkfyLGS0NjoTxFFovAVfaauVjz8id8xRhY9JyLF++HLtr+jO8gcgvFSJnqtB8rKS9WykyMEBsUt78uw4DOXKqvOnUuVMotb7ShUpUnWEHF1tc6pK6WRgE5afBFF/u7pnRyjfDutDo9E7rHO2cQPixauTE4aHSy1aCmpMWKO7R4uFBqZfViF8UKm6Waj5xADu77TdqheUa/9eII+6W11nhCGQWe/OXZZ7v4/ykhhkZCqiDetidexAJvcdf2jGbWcmm78VTnZk5lsWbed1y8+VgyrHpLydYyEpMC3d2l+f+RQjiu/xzWFp97kgY/XDH7XL9wBlMuRsC9Cm/ZsVAO8FWziIRdM911FUctOkztdbJzO821XTqSx07cjjM3zZ2bZm4BRgE5aeGr9j31J3g94QGYXxU3CUT6h2UAiEwBhk5O7Bj+w7s2rUNGb+KQuKGbdLxjkzEquUbe0MIRvw69rudu7BrZw6S5F2POaroNORs39S+ezen5GtWSoepoP5P+UQPCIFRSHo5h8WPPZt/tm1CxlM6xzuiC7HIzElBqHzoCCF6IcLE3e3bcPzQ4U6C64jmU1VuC7ImjI+yM8NUa5f4PL1eZum1g73Pjk1ItEkv51Ei4tn12Cbm3S5sy4hhkmJLCRr5RsYqNeZKJ4YQKmisGWhrXDyUhh1bUyDukq0UMOoqU36iYuxBjtWRSMvmTWpcNjIQ46zM2jIuAklc7vkzeDl4zO4hZ4wwMc9KOVlrl8aewdryg0vNqLMavnwPv13rETeOH/hAobiMlkYpIQdW7oYAA5hf2jnToDx3AmXWpJvuA0vjUVTaetCTQnGv2Axtxqkaq7ctYfnWBMOxo/LRrYXnlN+sRKzn7eTbrR2tKug28OP1SHTanQ+S+gqYG94lO4QorFoZCcXRXKxKWoXSMwLUj8Qg+IcjKD52BVAEYO6jPamRDkKXLUUYjiD3bQPMw5QIeTBavqJC5BwNlCNHwWekTUFrbGVio4A/8/56JgLJyx+G35dF2Ci2taciS1+OlntisP6Nbch8Jgo6eci7cqoOcWlz4Wc60UOTg4CHgwIkj8O2Td8hlchdmdB5IIaLBE3g9jqrwO36ZyOeZel1g6XXPpZeCj+EtqeX82ifeQFx05uxf81yZkywN1PPR5SNgcE59S17v5H+UA9y/2pXQuAvVtq2xoUacbppwLlGiNnyWS5WJFmb97uTYxXilsbC/7QeWYeZQSWoMd9Jme1Ai8T0OExr3o/nlzODgcmI+mdRdgZUJUyt7J+v/yD0oXZ4GZYzVtkWoHtiNvwuNKFGVIbs/RPSUSCL6kDK3eAzkPkVink/8kHjUZvR6LVFyN1U0Lmp3dpkb2lCY5XtBaB0VxbyP+l87lbBc8rvi3ys5e3kh+SO1a9LmJJix0lrkf+FdKpXJvkw0WD2SXt7SAfa+AgEnCvD3nesAzs4FtR9VgrlRK5QLGhqPCGd7gkhBvNnAMa/7IciaIoYXttZ6+/kSo4JSX2FjUD8s4UVTWavjpIt2u6YHQj/i0ewdW8Z6sW29jY0Hi5G/iupWPHiPtSNC8fCdMkrzEmPgablIPL/x3YknD3zoQmQKhLz6Rp0ttn6GxV8fNg/3qwnnZBg6RV23zUYill6BUrpxRWAS7BnRN0/Cob9+Si9EAzfMfzkNVi+E6+2Y2gRUxk+vSSzLjlH9Pad/2xD2iPyj90hXA1/KRvgN2e19MwdGYiYpEBLQ2nX/OtOjmfFIGR8I8rePsI8Q64dLWj40rXeFuGxKASPNKDod6Vom+3LPCbGdUuXOJha2ZlhY6D0tOvHvLUA0ctg9uh9Mdgip398kNCNDA+g3A0BBjS/5ukw/XbmuZX23B7E+wBF8bXt7/MCPN7sqZsktfZzheJyOk9RYhT/f6OrcJz6eCdy3yqWLRzraDI++MCEwpcSmJe1HBv/2FujIKcC+/57C/RV01mdxkWxjSlQuQKyVnLMQjXYRsBsYdUUK8yjfcVC2C1HtyP1pUKHTZPmb8pQuCkdK5bzuLLP8lSsfbMYhp76Q2f6Y4xc6TZ/c9T19BRRIvSpDGzK2Yac19Yjc0MOtm1IQtyzm7BtXSyreqwE8JY7BnvXTgHx9MpD0bEH8POZPL3c6Me6swXGD/eggDfFTNJKoxwvNeHEl9JlK2aW7yyVMfbOHlMZZXmpzKjihpWznxXI7sPweM1MlZTvV43QPyc98/k/17OUakZdpYPc7k6OG4ux8793o9TncYSIw6HrUPM313J1bIsRxe9Ilr1KngxubjrRRalcu8H/joKyF0Oi33lwCiTd14yyTVJarXqjkh0xRX/CkQwPoNwNAQYyvyJnT8PwRgMO9jimovv+vlsdDys/AQFixcWHg/evn9LWYISxQc662UxJ8dFk7c0oLmA2of5YPUz3z8MM7uXx5kTZM7VWcmaT0f2Od0GH+C59fqGSxdeFXvr8eD+S+MWM1tN21cYE9lvZs2kPayc7XhfXodDE/qUcLPnxNVTvXoPU59cia00qttQFIGL2WDSfKOtsbTvCml5hwZjKE8e2f8FZzpSh6EClVPDkJhjLuXr3B+Z4GKlZjnGuEYflOLfdxv7wPj1XRtZeaITxWCN8+NB0dmg+VdP+PGcxlRehWB7tGzJJTEk0fXXEPcPooRTkyDLkzGf9Eo38w+4JZm6fWNWytDHKcmLmadXdKNnucFnu1KzcOY63w8/WNETJvxxI+jW/OhHFDCigrvpgz89q98TNaDoxsG1HQw0PKz+rR9aKJneGCF+zgA9Y7A3hPn87C0qAarra8aCSbtAEyYquvSlGQJCKV3KuN0V1oELs83EIG3kKRVtTkbAiG4U11xEwLxGvvZaECLnfyIpqEasEL7eg28baf/Lh8xIK2QNs55weWdyr+f9KxTlTPN7GD1Zh+bpCSaExJZySHAvN7fUoeTMb+poOm6/+XybmzLagrsZW9THLW7Q+HRP1wDQxvUw1RWi6S+32UkrWUZOtJkM/VACeIBIBsjXRaTBR+V7k5uml/j57epRjDaKZ7PHKqPbIYYyYqkGAnVw4RyjUE8SUdK+scT7JRWq7d9z7Z+1uo/zD7lBBy+exMTr6+xhfHcDOnHwUOzRU+0vu6lHwkuN4O/yszEax/EvP0A/5ZYPwmBYB151oObB64vZdOV6AZ5WfdX6Pu3PNjraI3oEw1t73Z0rlRe7h7EBGNDBf7C9hlVGTbEFNehzJv12GSH/xtFOMGSn5VK3nrE0xcxEgjqp0YKHKbfW9DgkWIqC9qwVl+bko5srGbETp79bi+b1VaB0dgrhX1yPxIS17lgDNIylI+ZkKpuMV3TdFmMuYt8ubAgVMmx0pVgJdeHCa5OlZGlFvUxC08THQKi0wfbYPRfYWc5sJtUzB13RaVaQaLRfZv9FjpefZIrBn8b5HFkbVxz54/P9mYJkrid2OddQkH9nXVUCCx4upjGZ5FGB3eLTPz2bOmulfNgnJvbhaZkTIh53oVo4Zs+aJw/px4TjKqh7AsrRkxM52w5CYxAwnPum+G+9zitiW2HUQycDSMTDI9PXhjrQRvbjGbuTcE3I3BOjX/BIQ/WM1rtdV9tpyoFPLU3TOe1d/H8ezym+GPL+n01wzAbpn1mPTi2lYv3UHcl7bhE2v5WDbNkfNDiZx8itG+tgN+Q2TB35cwXc/MM9K/G7Bd7yTmN0Zu0wH35OVHZX8nCTkiE2OaYjspl5p/JYPrgB8xvGmHBbH5yKh6a4pdZwPeJ98a0svHuFMJXy+MWC/nbJpO7Qd6WvyUfIlU0q/SmFxY5VxzBRcr9Rj67s9teWYoH+nCEZWaygCY5C5Mgradi+BL70Uh8xItYPObD4KjCkSiwmGvzl4/jE9cnP0XUaZip3u7Lk+9p3uM1UQuw3O16FiZiweUBpx6M/yc51I6w50mMINDAejzjh+4sgHVgH0stSXJ/v8hFkBkkxfbcCJf4qnnKA7OWbc59feamGOicC0S0fxoTwsXfVEJnawtNzxanzvo/7mTBHjZbGONu1EN4NIBpr2gUHNOPWPrvnbHW7J3VDAFdnvz/xixr727jYcL+9tHICmfYpO22nv6u/jeFT5BU+Qmjw6DXaZtQSP/qgZH2Znw9CqgFJ5ES2Xme8z/A74TJLvaacM9eeYp9NlyO9BlH7eDIt5BKY88gDwRSmqvrkOzS9zsClnFYK/L8PuN4vaM1d1r9QsytdcDIkUT3XBtFePkoY2KIOTmWewBXFBUtwdjUjT3Mv7MdrQZNN06BA+4GVdx4LInbhQCX3O2o4BL8tSsXa3E4v31pcge002CssbgalRSHqdFbYd27Bt62akzPOF8V2+YLIJzZ06s6dgLLcyLzfjRJf1AgUEPxIDXZe0Z6nPTFILK6L+QfIJK0dLUME90LsisH6RCsc/2IkS2UBwJq3beShAsu4dWqFyx7w7/bgDgNW73DZf9kdGahD7X9yLXI/46dKp7ulOjhnFTHbZ+wmaOKT89ApK3t4Ho5wWmrv9RENGMUGL8F6me1hX7GhpdDDaVPbAPNWv6reIKW3uYT+tZdIlnoFuNU+rHKQ8JJ7oEXfkbmDhC0tLrQaJs6Q3EoLipXfkC06LZ1yT/f7ML+tyZhXHHN3sJ7aSiXHdkYZQqZEMytkp0rmcFPRWTG8VPLiwtXUxW76I9WrkWidZjguARtkGY4NWXBhY01qCLKYgurNwhMcysCU6AHXvLUf2QfmkyygRMDcMMb+IhV+NzULD7bDrM/2BJqO8+owKcRvWI+IuM1Mmq5Hdad6LCvGvrodOUYW8F+0X3B2qRCJteyw0V6qQm7a9s4enjsf6/+uPis0bUWyvGIUYZGyJQkC9Hss3l8gne6O3tO5A88wmpP3UD21Hc7vuOsEnQb+sw4jqvMFZmb7Xha1dwy05FlQIDo9E9KOz0fp+T4sZa5D4Gq/Y2lD1Riq2208l4pPvF02D6aPnkfXBTWDvuyV3QwFnZd/d/HK0sLVUHwV+abe4OtGFAff8hHBWmeZsw/qExVKTltiXYSMEvG+Ej9KcKbV5t35dwxQfE5rp8vBxO8x/rECdWQHNT/qyliafX8csaKUZzQ1dBTIidQMyU9OQmRIrnZgTiwfuYv/PdTRBtSMuH2SBqbrkJlF8nBL87xfNzPDQIiq6IxXFFXKeDUTzwX1dFR/HXISKL81Q3McKtNOJ31NaqxH5bAYyn+OruagQOpU3/HRdZYKj/aUWfhYTqg4O8mLm/YRbcmw2ofo4y6fRzTDZ9/2oI5GUnokUvjqIdcWOS6dQYzddhP0aMT+ZBsUlI0o/ugkUH8ctuRsK9CD7A5VfM6MR2Gk5M6I7Blz5Rc/TQaUU4KsJFFcSbzzaWUloEjaBL+mT9hDvDzSj5SsjhIeWYeXSSDhuPSpF4d8aYZnat4V51U/qMO0SU8QO+ml87+AljMWVbzXBtwP6tRaCpRGlNk1QEgKiHtVC2WZESZdRI0Mbw+9eRf4hE3x/sQU7ctYj8+X1WPO4Cob/yULuwe7fpXTfYTT+EABdvPNrTXSb1tELETNbjYAZGoQ9mSgu02b5+nDXxYuFKETNUqLteEmX/tKbF3fkWFoJZWy9octC8FELYxAyPQCaGWGIWxbGyhKT3woHi2bPWoxQVt86vDaEcUfuhgLdyf5A5Zd2biD83Jlu5IUMuPIrO1EP8w1u/fig9aiDARzm67BcBfwDBDS3CfD/zzSsiRgLw4f7ul3Wy/Te6yj8AghZIq+b6CoTYrFkng+MBwsdemsHDlXCxKzygJ+txo5XYzHlQikK1rEw7VaMVy/6LaICTCjNz7+pKhKJNlTuzZKGsqeuRdZLa7F243YU97Yq/hk9Xt/LcmZ2IlKcWUuxp7Q+XsfSmZsZrFILV6KlvBBZr+nt5lCqEft8FAK+KcXOnWW3hNdnxWU5Dk/EwsBmlO23XZRYwviVSVoEIEAH3ZgWlL2Thdftyxqf3vJ0KEbU9DaQagjiqtwNBXqQ/YHJLy3C1XbLmRHdMmg7ufcdNSJTlyHy6odIzeuPXhgXYYKdka5B07tbHW8hdIujfjgNyx68gg/TtvdLH1h3+D2RgRdmNmFfbgEqB3Ogy68ysGN+gPTdbif3vuE5OdY9uwmPCuV4+81iuxaMmwdPyd1QoPv86tjJnY9+NuxNx3a+yfOEGLFOMr6yEUVDYFDYUOcmVn4EQRAE4R6enedHEARBEEMAUn4EQRCE19FvzZ6jR/NZ08SlS3zpDoIgCGIoQ54fQRAE4XWQ8iMIgiC8DlJ+BEEQhNdByo8gCILwOkj5EQRBEF4HKT+CIAjC6yDlRxAEQXgdHpvnJ4QuxsrHQjCRr0l7w4yzn/8JW39f0af1Ee95JAVLHrwHY7gKt1zEyUO7kfvRSemiOwhhWLxqAUImSAvnms9V4U9b9qDChUjSPD+CIIihj4c8v3AsZYpPaHgfL61ciZf2n4QQvABLw+XL7qD6NRb9fDIulufhhZUvIO/IRUz++SL8Wt5Y2x3C45niu/0k3s9ciZWZ7+Pk7SFYEN+XSBIEQRBDEc8ov5/MwGThLAy/L8dFdnixfA8MJgET7+vD3lxhUzHxci3K99cy79GM2v3lqL08EVN/Il93mRDMmCQwj3QPyvkmDW3l2PP5WQiq6bi5dhAjCIIgesMzyk81BsLl8zjd3nxohoXv8XebQj52He24McClb9Gx479F+neb9M91JmPMKDPOn+lo4zT/mz1zmALux5IgCIIYinhG+ckKSVZP/YKoOG9Y+mlPNRuYUiYIgiBubTyj/H6Q/vWnB2X5QfLK+n1PZw/1ghIEQRCDh2eq+sbzuDhqPCa3a6qJEEbKCsxNDC0XgdF3YpZ8DIyBgmtXWdG6zkmcvyhg/KQOdTpxBPvOvMv+9FgJgiCIwcczyu/zWpw1T4T2N+FMRTE1Fb4AM3zNOF1jkK67wz8acHbUdIQ/Pp15fwKmPx6CqcNOo/Yf8nWXMaDWZMbEHy9GuJIdKsOxYOZ4mL82sCsEQRDErcSgzfM7XfkH5O0z9H2e37x7MIZ7fJbzqP14L/JK+3Ge35kK/GHbuzDQPD+CIIhbCtrMtp8h5UcQBDH0oeEdBEEQhNdByo8gCILwOkj5EQRBEF4HKT+CIAjC6yDlRxAEQXgdpPwIgiAIr4OUH0EQBOF1kPIjCIIgvI5+m+Q+EPzi0Cfyt/7j43kPyd8IgiAIb4U8P4IgCMLrIOVHEARBeB2k/AiCIAivg5QfQRAE4XWQ8iMIgiC8DlJ+BEEQhNdByo8gCILwOkj5EQRBEF6Hxya5C+GJWLMoFCqBHdwww3R0Hzb8rgxm6bJDep7kfgOjvzdj8sXvEGC+CsXtd6J44h3yte5xZZK7cmowwsJ1CAuajoDLh5Hwil6+QhAEQdzMeMjzi0AyU3w+dYVITUhA6ju18PnpQiTPky+7w+Xz+E9TKwJ+uA3m//g3bpNP9x+xWLlmKebdA7ReHY4BCIAgCIIYJDyj/OYEYapgQtXvStHGDtsO5aPqjAD/GcHSdXcY5YfieyahRDUerQPyFnpkLVuB9FdyUdFyXT5HEARB3Ap4RvlNGgvhUjMa29s4zbDcAEbcppCPCYIgCMJzeEb5yU2G16R/BEEQBDGoeEb5/SD9GyH9G5KEPrcNu3btkj7rYuWzBEEQxK2IZ5TfyWa0jfZDAB/pKaKCz0jmCf5gkY8Hn8o3ViAhIUH6rKNRnQRBELcynlF+R0+gyaxCyDMRULJD5bxYaCeYceqf1dJ1giAIgvAgnlF+KEXeu5W4Mi0OObt2IefJ6Wg7/BbyP5MvEwRBEIQHoZ3cCYIgCK/DQ54fQRAEQQwdSPkRBEEQXgcpP4IgCMLrIOVHEARBeB2k/AiCIAivg5QfQRAE4XWQ8iMIgiC8jn6b5zd69Gj5m3dz6dIl+RtBEAQxVCHPjyAIgvA6SPkRBEEQXgcpP4IgCMLrIOVHEARBeB2k/AiCIAivg5QfQRAE4XWQ8iMIgiC8DlJ+BEEQhNfhsUnuQuhirHwsBBMFdnDDjLOf/wlbf18Bs3TZLe55JAVLHrwHY7gKt1zEyUO7kfvRSemiOwhhWLxqAUIm8EgC5nNV+NOWPahwIZI0yZ0gCGLo4yHPLxxLmeITGt7HSytX4qX9JyEEL8DScPmyO6h+jUU/n4yL5Xl4YeULyDtyEZN/vgi/VsnX3SA8nim+20/i/cyVWJn5Pk7eHoIF8X2JJEEQBDEU8Yzy+8kMTBbOwvD7clxkhxfL98BgEjDxPq103R3CpmLi5VqU769l3qMZtfvLUXt5Iqb+RL7uMiGYMUlgHukelLexw7Zy7Pn8LATVdPQhlgRBEMQQxDPKTzUGwuXzON3efGiG5QaguE0hH7uOdtwY4NK3+EI+BizSv9ukf64zGWNGmXH+TEcbp/nf7JnDFHA/lgRBEMRQxDPKT1ZIsnrqF0TFecPSpz5DhzClTBAEQdzaeEb5/SD9608PyvKD5JVJQ1P6EQ/1ghIEQRCDh2eq+sbzuDhqPCa3a6qJEEbKCsxNDC0XgdF3YpZ8DIyBgmtXWdG6zkmcvyhg/KQOdTpxBPvOvMv+9FgJgiCIwcczyu/zWpw1T4T2N+FMRTE1Fb4AM3zNOF1jkK67wz8acHbUdIQ/Pp15fwKmPx6CqcNOo/Yf8nWXMaDWZMbEHy9GuJIdKsOxYOZ4mL82sCsEQRDErcSgzfM7XfkH5O0z9H2e37x7MIZ7fJbzqP14L/JK+3Ge35kK/GHbuzDQPD+CIIhbCtrJvZ8h5UcQBDH0oeEdBEEQhNdByo8gCILwOkj5EQRBEF4HKT+CIAjC6yDlRxAEQXgdpPwIgiAIr4OUH0EQBOF1kPIjCIIgvI5+m+ROEARBEDcL5PkRBEEQXgcpP4IgCMLrIOVHEARBeB2k/AiCIAivY2goP0GHxA3bsGvXLuxaFyufJIihTihStu7CtudC5ePBJhaZrAxlLpIPXWaovc+tiRAch8wcVtfx+m7nDuSkRsFPvtb3PCScpR+Vn5RpYoZaP9s2IeOpUPC9YdsRghGXmobYIPmYEfHsQoSOb0XZ29nILiiRzw5BHMS9P+GFIi01Flr5uM8woyKFF7LsFESMk8+5gPrhJKQ9EwmVfOwJYtex+A6oASRA91wOk88cpMzrJJnETUboc8xg3prCVPbNRCgSfxMBlcWAojdZfbenGCearqBZvkp4jn73/MzHipCdwzI1Jw/6KjP8/zMRmc/pWJUjc+9sBM3UIPinGvlEMAInC7DUl6HgsBHGhjb5/BCkS9z7l6n3B0EzMxhhM+UTfcIPuqWPQnPDgIIXc1F6QT7NcLbS0PxYC839IQiRj28Jghfj0RmAYfca5B4awrJG3JrMDsGU0RbU/SUXxUdZfXe4GPnvlsoXCU/S/82e15thPMYy9Vg1SnZnYbXeiBGzFiJ5nnz9WD7SExKQvsson1BAwWJx/WqrfDyE6RL3/sW4Kx0JCenIPyaf6BPNKMtLx/K0XJS5uV1+8ablSFi+EcXy8S1BNcvD5anILXczUQiiL4xQYASuw/KdfEwMGv04yZ03e0bC74t8rHijUj7H4f0IidCcK8Lyjbwale7DJwnIelf6HiDdyDDDsGsFcj9jX8dFIH5VFHSTpKYp8zcGHHgrFyX1/Ej6naKmEsPvC4XfNQPyV+aiUtAg5tmnMV/jB4EpVEtbI8r2vo7Caqmi401qkcMqUXwlEFHT5ed+XYa3XiuAfAugjkTK0mho75J8VUfhSnHnx0qEPrUSC8MDoFSwwxtmmGoOYPcbJRBv74ISEc+uxuPBKjF+LIJoPLwXr79Tzd6csSgTux4CShKyoGeHUnwNKMOU9nRoqy1G3nvAwuRIqHmgNyxoNhZhZ45NmN2mnX16A402+WCfnmAeYuK9tVLa8pt5s2/aU9AFKEWDBSx9S23SVwiMQuLih9vTzv56V9SIfG4JooOk9ODxbBjGvM2rJUhYx1OA0aMc2DEnBdsSpqPhaBP8Z6mlPDGbYCjejdyD8g9s01jN3ns1k9l6PVZvLmF5IEC3cjPiA1tRunktCvlPegxfku3pX9nIfC/xVc5LwupfhUDFk4jlXVtjGfZmF3bIXydclS97+eThxWN1tA4qHp1ew+v6PsqfxmHlIh0CxAh0fR+rjFYqNAidcF0uv53lnP/maOt06O443JGvdmW1Sz51QUDwk7/FU/NYWsiyZ7jgB+14G/lk92h+lYyn52ngx9PXvnzZIcYdNrJm//5WeTp0HGPDrHnWBuMHeci2xpO9R9SyODwsyzC/3njIcZi8xSVxllw2OJd4OatAWKc0d7WOiULGjhgENLD6ddMtZaYOODy7BphKmJhTp1D6o2tjoR5ZCfkwXGKyz5RmQoKs+KBFYnocwm4zoEBsQtXj+HANYhMTO/WHqWYG4uI/SlFaVo1GJvhRq1IQNbkFB38nNbuWtvghInEVomzkDZNCobtWijz23Lw/Mg/ubh1in5RjxvvIkmOhGV4rtce/WYQGQYvY5CSHTYSqp1YjcZ4STR/mIWvNWuT9uQE+s2Kx5CnHvWT8/rjZPmj4Mys8LPyCyitQzV/a4RU7YpIG005KTckF5Sb4TGfCnj4fiupC6dxnLRg7MwYLH5Hv7zHteHonIP8LVix5wWPfrZUkp3N62qNG7POJiJjYhrI9/LkFzKNUsfT9LWIn8esRSF4Rw/L4KAo2rcXaV+TrS5PZFceon16G2Fm+aP2sQHyXfcaxmDpBvijinBx0hlWA06+h9H+k/DN85wvtE0sQJ8bRDqb08j9txPDAaCTOYcezFuPRoOEwHd4tKT6Xw+/l/klxWP1UCHxOFYnyl72nAlcmRWDps45TyFX56sKcJGQ+pYOPqXN4ic/Hstx0Ah7fZyKgNDGD6xWWp3lyeVga17kfeJIWgW0VKP30U1Sf4vn6ApPzzvk6O9C2EKoQm8bK6n3XcVSUpTwUnfJh+ZSMlHDb+zoQHkrG0vnMbPtSepe8Q61QTep8rxC9CimP+KOlRCpfeZ+2wG9+IlZFO36mczB5muOPOj2PZwEqW3ygeWwhUzkSEc8mI2YG2HtsxNo1Waw8dl+mK99YgYRdBqYUuZGfgIR2pd09vcuAEcbjjTCeGJjWqFsZDyg/mZECxshfeyU6CsG+zajYzipQsQm1BNsPGGH2DUT4bPkeRnP5ZmzcXYjCD8pgmrkY4axEGz/OltrSj1VDv+UITAo1QqySyjlXhs05xahmz60+8CEMLYCfvzyCJSoCWiULN19ujz9ajOz3q9B8uz9mzZJusaX1L7uRvWkz8g4wZfGNiT2vDKeYIh97p61v1YFK6QNcbULNX6rFpuGy3XoUfXoEJ77rGOvVhTNl2LC7TL7/AIzs+TAdwet7refKUHdVAd97gqX7nUw7R3RKT/lcO7MjEXY3S99i5snxvtljZShYX4r6G34IEIOugp4ZDBuzWbi1Jpga2PUa9hThDviKD7AnGJGz/GCpL+l4v71ZOPy1fJnj1ruwimW/LAMs/3Lf4O+iQtCDjhWG6b18lDYMh3ZBClIWMa/3XAV2vyNb9a6G39v9zP3ygQVNNUxJ8OuHC6D/oBRHar+zGe3XgavyZU/Uz7RQXqhCwWZJ3nl4G0SDby6iuLLvjW9LsTtnIzZvY79vYHlaXYyyBmY43eHbqfVALFObClD4ThHKzmgwf0Yv+TozGsFTme1xcIPUz8/KavHmPJSdU0L7YDRTN12JDtNAsHmX6gO5KDpu61tpsJhXACdKkM3Si4db/d4WHDmjgPrH0fI97mCBsWitHM8y5H/WCIuCvb+c/1X7maJleVRwuB6mbxpZeTQweRNwx0Tpel/pXQbqUfRGFnL/2J3HTHSHk8pPGgLdPorTndF4V824KH/tjeAAXyj4gI2XbcJcomUiNQKKEfJNDPNVmyp6hor9QgHNIpvfbIuQLNTbxDskrl6xqdiNaOXlR74eqmJV0CUT6m3l6LPtSE9ay7wl+dgG8zdAwIPJ2LDDGiaz8EfLFx1QfbCCeVTME3hjB3I2ZCCFWW+mjwtR/PcexnrdsHRtsul0rhWWa8CI26RmKWfTzhGd0tOeaX5QogWmv9nExqzHxqQVrLLhB21oHhmMp9LlKSv881BPlfQ0+ClZ7M9UdH0/Gbff5Yb8n3OmDs2sshil7C4uJujfKUWjUgvthGaU/U9Be5Oiq+H3ev/RElQ0sGr6iW3YkbMeGc8xD+qbYhQeqHQ42s9V+epMKNQTFDCfroFBPsMxH2wUK+exzuhPM5OHuyORvGFH+/t0araz0qlMBUHFrJ3W8ye6zVcE8bLaglMltnfUw2hix2NVDrzqUKjGMzV0tr7Tu3RGClcRGNse1127tiGCe/y25d9l7Prnzn/HznTkf9tZAcGLXsC2ndYwO3cr9JW+yQDRE04qPwP0edztlz8uTUdggjuWN783MVXjHIrbmGRdrUeJNbz2zxbo/ynfZI8o4M2o2mX/m2zsHqDZE9pneLPdcJz6MBepCQlIkJtwu6Vej6ykVGTtKYbhrAKqsFikvLpJanLrJ9xKu/5AiMKqxAj4m4+gYM0KlhYsPT7p2nhqz3VL9wOdPPcuPhBE22EEfGwsdlfD7/3+euhfWY7UVwpQXNMMxaQHELvyNWxKcDzu1mX56m9mJWLZE1oMb2QedBoPX24y75ErsFjYv+/7fwDbdcsV+Vv3NB/Nt0t79hmw6VO8qyUREZPNOPL2WqwQ86jEQZeB+wy6DNzCOKn8zDDVcrdf/rgwHUG96GFoRptRd8T5zthKE7ODR/pDpbQJ81gDGr6qBzcOHVLXzHyPsfALaLX5jZH9pgGNNsP8e0IMd7QKatv+oZlMQb2YglgH0w8Cuaf4TTVyDxhY2BxW+XWLGjHPZSLjqUA0Hi5GwRtZSF+th/GGH7Sz+2+mkltp5wxi+vpCFS4fi0Qg8cVMJPL+jfvV8FeYUfu/hSj7RgpIGCZ5o46pgakF8J36MKtCHOP2u9hK9STmYTJL+XJbd1WSGvH/Rwe/c5Uoa/BByK87+nddDb+3+9W/SkFmehwCG8pQvDsXWc+vhv4E4BcU1h6mLa7Jlz2VqD9ngTA5qJMnJTwcABUrz63O1NAa7qGZUL2VGWtyGRrRa41RjxYW2bGTwrrNV9SYmJnqiymRtneoWXDsuNXkwLtz/C6dYR4+D3fiFLS2pz37sPLf0FN9xWS023j2ilbyrr88iMJyk+TpMiuqJ6l3lb7JANETTio/FxjuB81MDfvoEPVMJlY9FIArX+xD3iH5ujMUl8LQJkD7ZCbi5vJnaaBbsgZbNmcgqtOACBt4k9LXQMDPUpASHSz+Jjg6DRve2IBEuTusV8Rw/RD2XBIi+TvMjkLKbyKgHWfBKQfTD1ouMnG/OwxpYng6xL24UGySGD7KUQ9OPZp+UEIdHtMRvweD4D+Slfdv+9FWdCLtLl69LCr5WbM1CHB28rucvpoFGYhlv5Pe93GEMkOh9Ut2/VQLWlk1onk0Hjox7VlFP5c3OgsY63DeohGfHmfejzoSa5bopHg+lYm5d8uXOe7IAY8DCztKjmN8kg4qSyOq/+K4SVf95BKETWhG5bv5KHinAs3KECxMllWRq+H3cn+9yQLldB1iVkYhmF3TzJ6PIBWrKr9rcegtuCZfXSn+K6swx4UgfrUc3tw4/DZKA3x9GMXiwLJeOPsdq9ADECb/nufPwiCmKm6/gynF7jDiwD/Z2/SUr8cOoLqB3fLwGsSL6RSMqOeWsXxog+EvBxw2l376jzqYbd6Fy1fMDFu1VY2Sv7Nw745AynPW9I1C2ivbsOEZxxVADTdWJoUgWUxfHocYZqjLF52iES3fMYmbES29B68v1jF5Y1cEZf/MBe5dBiSjOuUxp4YwETb0u/ITZsYgLTWNfeIRpRHQdCgfWW+UORTobjGXITdPj6pvlYh4mj8rDfFBQMUHeSg+J9/ThXroX+ODF4Dpv0wWf5Mc6Yumgzuxp1q+pTfkcI3XZyCWv8OzMZh+3Qh93naHo7JK33xLDE/zGA8vHiE4gqozgGI085Dke2ypzMuD/vj1jvj90h9XyguxeW8PfW2u4kTaGYvLYbzkh9Bn07DkQelc78jpe9YXEc9I+asb14zS/NehZ++MM4XY/Z4BLUqmcMS0Zz5DpZHl+1iM8ZeeYE/926+i8GgLxs6JF+O5UNOK4w28zUzGLTkwo7HxDkT8HzmOyhZU7dsqxdEedRyWMAV9veZD7OF9uvUFeOfvzVAGxyBpNqtYXQ2/t/s/246894y4Pi0Gyewaly//y2UozC606TPrwFX56gILL2tvGa6o5PAW66A8W4r81/QsN53gUB7e+pQplPuk38czHXLkKIupYgx8HY2elTG9y9LbNl+DvkNTp/QyQZ+di+Ivh2P2Yp5OyYi57zqM7+V1O//S/Eke8j5isZbjkjxvLE6cYMrLhvp3XxdH71rvSXvmYfg2FWPn7x1XAMbff4jKb0bI6ZuMhyd+BaMjOekWEwrf0sNwfix0PL9ZeH5nKsRBaWPH9E/PX+8ywJTujABoAvtH2XoTtJktcesgz8uqtc4VJQYJAYJghrldj6kQ/+p66K6UIOEV65w6ghhc+r/ZkyAIr0a9JBPbNts2/SYjbIIF9Z+Lw4IJYkhAyo8giH6l/t23UfSlAg+ITZppiA/1genTfGw54FLnB0EMKNTsSRAEQXgd5PkRBEEQXgcpP4IgCMLrIOVHEARBeB2k/AiCIAivg5QfQRAE4XXc1MpPuEsNzVRp01CPI6ignhmAQQp98PHQ+w9qHnsIb3hHCSUCZqqlTWFvZryo7CunaqC2bk7dV8YF9N+z+oGbdqqDEJ6IzCcDYXovC7mHeli4dsBQI3bdasy9VoItG4ucWy7qVkHQIXFdHAJNemRtLZUX3B0gxN3W58JycAs2DuaeZeIO8AGwXLUAp0uxaqO+fck+bcJ6JIX4QjFSXtL4hkXa2UCm/TyjrToPqXkdy20Nvhx7EgG65zYgblIdCtdtR9kgTfvrS355VPaHAEJ4CjY8pULd3ixst116bnYiNi0NxthhCii+N6BgZS7K5EuOERCTsQW6tnysYek5FGZ8Dprykwp9KEs8dnC+FNvXFPawV5cdQhQytsRgzBd5yHpzEBNSjof/8XyseKO3PZk9hKBBxKJHERE0Db6jWSFmpVqhuA5TzUEU7qlHcEoKQs5uR+qbTqe2HQKimBDHKA3IYxVYdafEZwbBi6sRyTcq/WA5Nn4kn3YRITwJG54OgfLbSmQ/n4+G6AxsecwfxsFctowrv7DWHgq5Dilb48VFh5vLNyJ9t42iZnkSsyoZUWoBpk9XYO07cqL1JMeskk16JR4h45pRmZOOfAcLqw8MSmij4/Hko1pcP2wTV7exlwktEl9LQbC5BFnr9A7XNPUMbuSXB2TfdQSowh9H4qII+NUVYMXWnlVQ7zADJXkD4oOVaP4sG+m7jNA+swkp95tR8kpW1zVyey0XMpPisP7lEDS9uQbbj8oJp45EytJoaK3eYFsjSt/disK/W00KDZOVNIQ63g3bAXyHfOfriMFp9uR7vz0VCr9LJrSwQ8VdD2Bep61yeoLvoRUFNbM2PiwYZAvCXIzdf23E8FkLkeRgp3dPo5yXhE3/lYa4OVNhqSlC/osrsDxpORJ+ux/NU2OQlp2GiLuBppO18i9cR4hexSqF6zAc2G1X+DkaBPBdCq6acOor95s3pk4PgJJJZtuZOjSxYzMLq/Tr4dA+ntTDljaDzCQ1VOKOABa0mHisbTAbUfTXWiarFlxp35KuFzm+V40A3q52wYQ6u8cNCNyS374DO3a8hqRfauHX4fz0EXuZMCD/TwZcvzsCSx4bxCYwl/PLM7LvPDHIEPNrCzKfjkBAvwU5FerJTPButMH0lZQuht8VwfB9ACKejmFS6x6qeRqoLtSh3Kr4mHGXkhyLKc37sXbFCmR/VA+zkoXxzAakhMuhzNThXqb42mpLUPBKqrRH6JtVsrfdhqo3pD0mE1Zko7ieP7cZJhf2+RwU5ScsCIGayYn58hUM54XsUgNOVEnXemXWYoSzHzd/UTxozSa2mN6tQN1VZi0/6r5g9AfqxzKw4akQ+A0zoWznGmTtLkG1vK8eLpQi9wDfYYHTipZadxNOi8XhaijOHUWxw9X3i5GdxIQxKQuFJ9zPHOPudFGoU9+wNiuZoP9/dbCM0yJqMCvMngj2x1jxSwtMlQ7e/TO+h911fNciX+tNjo8VIH0ZS8u0XJQ6uR+llZgXdyEn2dl9vGSO5iOdGUrLly9HqUs7G/SGA5n4TI+j5xRQhy8ZPGPG1fzykOw7TxE2yvm1u6Y/wzOi4AX2HstSbZrhK6H/J99+TIclbhn5KkTOVKH5WEl7657qV5HQ3t6Iij+WwmQ2w/jBFhwQ001gRu4ScOlVzb4XfheqsDdXjzJ5T0aVta/10inU8K3UONxY+aqZnWt1ac/SQVF+c++WNuNord+C9LQsZGVlo8TJSGvnBMKPieWJw0Oll60ENSctUNyjxcODVS/zHbej1UxsmBDt24yC9mYDGw7VoOEq+3+pBY3uehKzwhHILLHmL8s838f5SQ0zMliFGdT95reDSeg9/tImprwAfi+e6szMsSzezPCQmy8HUo4VtwEjFHfIR0MRE0r4dkTjpiF8tnzKw7iaX4Mq+0MA019OMGlVYlq4i0YVZ1YMtBM6y7ruHqYDRgYgcmUKdOIZM5OJJuZrM5gHqFUzhRnISkgNM+JtdEPIJMlksZxrhNWJ5KhGslrhYguOysfOMAjKT4MpvlzszHzTZuaVNDq90zr/bRgfFXfJhHoHEigExiAjZwd2bN+BXbu2IeNXUUjcsE063pGJWGf3exSCEb+O/W7nLuzamYMkqxvOUEWnIWf7JiTNkU8wSr5mLzJMBfV/yid6QAiMQtLLOSx+7Nn8s20TMp7SOR4BJ8QiMyfF4S7fHagRvyhU3FzUfOIAdnY7aKIVlmv8XyOOuGAd2aIJ41YX39XfLvF5er3M0msHe58dm5Bok17Oo0TEs+uxTcy7XdiWEcPezJYSNPI94VRqzJVODCFU0i7kHNv0fSgNO7ayws0vKQWMusoqU7Gi7UGO1ZFIy+bNWVw2MhBzk+5R2l4Wu5EJUy3f+VyJgKDBeEFX82ugZX8IMC4CSbyu5O/B6077zXHPGGG6xJJlstauXPaOds40KM+dQJlN0p1okvdivGruGDR0/jvma3NGQamaxsqHAZXltukdicDJosmCloZSlhsdjL1igvF4TadzvTEIyk8NX9FvZRbX567WwkFQ8c5PRxqe9yOujITiaC5WJa1C6RkB6kdiEPzDERQfu8LM4QDMfbRnNWIldNlShOEIct82wDxMiZAHo+UrzBqZo4Fy5Cj4cEvDSmMrS3QF/Jn31zMRSF7+MPy+LMLGNSuQkJCKLH05Wu6Jwfo3tiHzmSjo5CHvyqk6xKXNhZ/pRI8DgYTohQgTdxVvw/FDhzsEqRuaT1W5JCC2BE3gKpZVCHZN1BHPsvS6wdJrH0svhR9C29PLebTPvIC46c3Yv2Y5MybYe6nnI8rGwOCc+pbFfKQ/1EOgf7UzIfCXd8TvSF814nSsAFst1M9ysSLJ2sLRnRyrELc0Fv6n9cg6zAwqQY35TsrskMK2LP6+G5kQmxUBP9VgNHy6ml8DK/uDjxaJ6XGY1rwfzy9nRibzedU/i7IzuithamX/fP1dbKoOxbwf+aDxaOcR8YZdUtdGwvP57fWbEMC9bYalCY1VZSjYmIsi2x/NnALfkfxLG5qOda7pjO/lIvtd1wbxeU75zUrEet5Bu51Z9KLyVkG3gR+vR6KzldkkHzFxzKLL2BltfAQCzpVh7zvWvi2OBXWflUI5kSsUC5oaT0ine0KIwfwZLDH/sh+KoClieG1nrb+TCw3LnPqKjlDwzxZWLACfUb3srz07EP4Xj2Dr3jLUi/1xbWg8XIz8V1Kx4sV9qBsXjoXpkleYkx4DTctB5P9PSQ/KSsDDQQFS841tZ7JDKpG7MqHzqDaXUMHHh/3jzUTSCQmWXmH3XYOhmKVXoJRevEJxCfaMqPtHwbA/H6UXguE7hp+8Bst34tV2DC1iKsOnl2TWJeeI3r7zn21Ie0T+sTuEq+EvGaTwm7NaeuaODERMUnSxUEW6k+NZMQgZ34iyt48wz5BrRwsavnR3VO7g0aksTpIqNMs1i/i/AxNamSeB0UqXPYk+42p+DaTsDwGEx6IQPNKAot+Vom22L/NwGdctXdLB1MrODBsDpSsZNk+H6bebYCjtzSzXYslsvvu9hdWJRTjooCoT+wD5F9v+vj7gOeX3RT7W8g7aQ43S8dclzENjx0lrkf+FdKpXpiiZQ8y40TVjTn28E7lvFcvWxVzJshY7s00ofIlZGAnLsfGPvWUApwL7/nsL9FXTWRnhYtDGFKhcAVkLzYUmGGwjYLaIbdWK0b52BdyOo9uR+lKhQ+/M/E0ZCjelY8VyHlf2WZ6KtW8Ww9Bjk/B8aAKkUmw+XQP3x3A6QwBvCWKwd+2U+Dy98lB07AH8fCZPLzf6se5sgfHDPSjgAwkmaaVRjpeacMJOwM0s31kqY+ydPaYyyvJSxVGuzn/4aDP5x26gmamS8v2qEfrnpGc+/+d6llLNqKt0kNvdyXFjMXb+926U+jyOEHFEWB1q/mYv6TcBdRXQv7NfLIuRUyVLpaXRXqnwNniGoIS/9M1juJxfAyn7Q4CxLUYUv1MgDryyDigxN53oUp9cu8H/8iZJ8dApImdPw/BGAw72WI/x+Z98Wg/LgaN6bO3kwHTQXX+fu3i82VM3SdTdojfVD/Fvp63BCKM8IgizmZLi7jFTUjUujpSD2YT6Y/Uw3T8PM7iXxz0qWTlbC43ZZHS/01vQIb5Ln1+oZG11oZc+v5n+GCNbsM3fHHUjPSOQ+OJ65Ij9FTlY/2ImMjdwr4l9X6LrWZFbsaZXWDCm8h/Yte07xZkyFB2olIwCeRSe5Vy9232TnkZqEmOwQnlYjnPbbewP79NzZXDRhUYYjzXChw8LZ4fmUzXtz3NEdx5uxCQmZjPjHF7LXCTHdQAxfKJHqThyz9q/34amGkdKpXfUT693+B6OP8558P2WXy7LvpqVfUfx7uazNQ1R8i8HElN5EYrlQXKSgrGg6asj/VA/RzEjjtlC1Qd7fJZ60W8RN8sHjYe249U3u1s4QAf1BKmy62pIuYeHlZ+AANFq53Nr3PBTrlms9mKPCPf521kvAlTTXVtWSRMkK7p2j0pAkIoXmr40RakQ+3wcwkaeQtHWVHF+SmHNdQTMS8RrryUhQu6HsKJaxCrByy3otrGWd8qLX8xoPW0nDhOY4pQLUbui3cmO18WJFatEKfJfMaCNyZTlfBUKX8lC1ppUFH45AqrwePz2Cfk2EWb1ipafY6IemCaml6mmCE13qd1exsg6Cq/VZOgXAR94IhEgJ2in/tTyvcjN0zu2UHuUYw2imezxPK09chgjpmoQYCcXVrrzcPlUBfOxQofXst6VBxp4AkHu27zahHo3m6nq317r8D0cf5zx4N3Ir36T/XoUvOQo3t18VmajWP6lZwiVFUwrM1b6XvqEx7QIuN5z6wVfQSZ5vhJ1H+Ti9b2sLhIN8hTETJdvsDKT1YXivEz3DSl7PKz8rM2Rbibu0RbRKhDGdlTfEkypvMgr+R3IiAbmi/0lTLibZOtl0uNI/u0yRLrQvjJmpKRWWs9ZPaq5CBAHljiYFyS3k5u/bewoTI4QIqC9qwVl+bko5hloNqL0d2vx/N4qtI4OQdyr65H4kJY9S4DmkRSk/EwF0/GKbiwhxj+lQQMchWQUdXBOjyxegP6/UkgNzRYYP1iF5esKO/dbPBQgKsPrZ+tglM7ARzGc/bVAMVIjnRCpRstF9m/0WBvlKSPEQMubXy2NqPrYB4//3wwscyWx27GOwuOj6rqa4MHjxVRGc2PPsuPRPr/2TngW53/ZmP3cixNHNDqgWzlmzJonDqnHheMoq3oAy9KSETvbPUNi0AmXZItZurDtIpeYgrG8MnNxeHqfcSe/PCL7Q4BJsoLpxgOeIrb9dh304xgB0T9W43pdZbetF9IqX1Nw6t3NyPtIbuqcEwTtVD/4nBZvaUeYFSD393XtDnEXzyo/q+B1mmsmQPfMemx6MQ3rt+5AzmubsOm1HGzb5sjllzvJR/rYdZKHyX1fV/DdD8yzEr9b8B3voGV3xi7TwfdkZcfIoTlJyBGbHNMQ2U290vgtH1zBFME4rgB4m3QkNN01pY7zAe8Pb23pxSOcqYTPNwbst2saaWPufvqafJSwTNX+KoXFjVXGMVNwvVKPre/20I5iLoOxgfeDCZg2O5L9dcCD06QCywpnvQMLTHOvL/O0LGhiQioyLhJBU9iZlmqUfGBVhxJihzcLxce+w3umCmLr1vk6VMyMxQNKIw79WY63E2ndgQ5TuIEhjvbqGlc/cdQBK3y9LPXlyT6/9kJ5tQEnnF5dojs5Ztzn195qYY6JwLRLR/Ghw0nVg4PqiUzsYPm549X4Xkf9Bd8nefFtppquBlwPg9cGEvfyy03ZHwK4kl+YM0VMG8d9at0M+ukO5nBo727D8fJuumPUsfgtX+VL4QPNrzKxxWqI/kYL4VIz7O1bq0PTn90hnlV+M1SS4NnOrZm1BI/+qBkfZmfD0KqAUnkRLZeZ7zP8DvhMku9ppwz151hl32W47UGUft4Mi3kEpjzyAPBFKaq+uQ7NL3OwKWcVgr8vw+43i9oLoOpeqVmUr+EXEime6oJprx4lDW1QBiezTNmCuCDxFw4HlkgKxAl3nA94WdexIHInLlRCn7O2Y8DLslSs3d3bwrkm6N8pgpHdpAiMQebKKGjbm8j4mn9xyIxUixUQzp1CaZeAVQhlVhbz+zBGm4K0jE3YtiEaY41FyF2X32XlkTJmDlpYDvoHySesHC1BBVfCd0Vg/SIVjn+wEyWygeBMWrcje6E47yiucv+RO/24A4DVu9w2X/YFmJcc+1+8AK9HvH2TTRe6k2NGMZNd9n6CJg4pP72Ckrf3wehQYPobebks9om8Wzqjmi/Nkd2RHiOdYGju9hPlSTFBi/AeR2mroOXLZDFpbzrhoItD7Nvtr76l3ulbfrkn+wNLMBJflfIrcZZkVQpB8VJ+vZoorpDCcT6/ehqcxJFGujurfKzLmVUcc3xz7JOREH0UvjD2SJsPPye3BnS04OxCjDRFAAp1lKwoncu3nvDowtbB7GWSg5VoO5rbsbDyuABolG3Mg9GKC81qWnte8FZ4LANbogNQ995yZB+UT7qMEgFzwxDzi1j41ThavJdvveIPNBnlCfgqxG1Yj4i7zDC+uxrZn9jer0L8q+uhU1Qh70X7xW49hLiYdQx+zqzasXcwAfrBDPP3wOXztag+VIQTUxPx5Gg90rssZh2FjB0xCDhfitw1hTAKkUj7r1hoTCVIeEUv32ODwCrILVEIqNdj+eYS+WRv9JbWHWie2YS0n/p1lg8rk+Kx6WUdRlTnDc6q8M4u4Osk/SPHjoldtwtzW/tjkWMHCCoEh0ci+tHZaH1/BXLL5fNdkGRLjXoUr9qIIrsMi1y9A7FqE4pfyELREDBmesUt2R8COJ1f1kWk+ZqZqdhuPwKfLwCwaBpMHz2PrA9sTHKH5UKqEwO/tFswfIjhQc9PgEacb2fGqRobS5C3tfNRmnKHZuvXNUzxsQpzujwc2Q7zHytQZ1ZA85O+rKXJ59cxK0JpRnND12o0InUDMlPTkJkSK52YE4sH7mL/zzloghKX7rHAVN15GR6PwvsOdzNBW7kcy/l6kMtXYMXKFUh/JRf68kYY9q51oPgYDwWK1ld7fx9L1xFMIiy3s/QVb7DDXISKL81Q3MeUmdOJ31NaqxH5bAYyn+OVpNULtZMPGS1fbNliQtXBQV7MvJ/oHzl2TMu3zWht6aUVwl3MJlQfZ6V5dDNMdn0/QnAc0l7MQDxf5USWLYctDkyR8Kkc5hOlvQyBH0K4JftDgB7yi68mlJSeiRS+msukUHERacdz6ATE/GQaFJdYPfORE3I1MxqBdsuZDUUGXPkJ4fFYn7MN6xMWS/05Ykd+R2nQJGwCX04n7SHeJGpGy1dGCA8tw8qlkXDs1Zai8G+NsEx1d5FVCfWTOky7xOLioN3f9w4u3RY08tW2x0Ug5ddaCJZGlHZpghIQ9agWyjYjSjotRXBz0KW/7wlpwXF8xzzxOXFI+lWXHimU7juMxh8CoIt3fp2HbtM6eiFiZqsRMEODsCcTxZVqLF8f7rpwsBCFqFlKtB0v6dJfevPSP3LsiNI30rF2by/9z24jQPfEbIytN9itx6vB4oUR0ExVQzvrYaT8QiN2BRj+d3+Xpnvtb0KZsdOIwwfKbipDxh3ZH3y6yy/mmy9kRsj0AGhmhCFuWRirf1mdV+FgofVZixHKqgKH1xygnRsIP3emPHmYAVd+0fN0UCkF+Gq4JcgS96idh2S+DstVwD9AQHObAP//TMOaiLEwfLiv22W9TO+9jkLmlocskdfhc5UJsVgyzwfGg4UOvbUDhyphYlZ5wM9WY8ersZhyoRQF61iYdqu18/kpUQEmlOZ37R8b0kyKQtKL67HsfrEHFr5haYjjCwxXG1DfZoFiQhgyozXMI3Qw5OuMXhySzLfAad96pCd6SuvjdeIq7BawCiVciZbyQmS9prebQ6lG7PNRCPimFDt33lyVZW/0WY4Hg/BELAxsRtn+g3ZKrQHGxmZxSoDPTGa4WphBuDULuXaGDB/aHj97BAz7tkJ/sxkyrsr+UKDb/AKMX5mkhSMCdNCNaUHZO1l43X6AHd966OlQjKjpZfBdO1qEq7suZzYUGfA+P9UTGVjzc77jgAXN1foeJjG6ihqRqcsQefVDpOYNQN9Gb7BKPSNdg6Z3tzreReEWR/1wGpY9eAUfpm3vlz6w7vBj8vPCzCbsyy1A5WA2kf0qAzvm8+WXGHY7ufeNQZZjj6JD0muPwudvb3cMbb8J8ZTsDwV0z27Co0I53n6zuHOrl3Und/79kgG7n98Osf1oQoxYLxpf2Tjk+3IHbSd3giAIghgsPDjghSAIgiCGBqT8CIIgCK+j35o9R48WF17zei5d4kt3EARBEEMZ8vwIgiAIr4OUH0EQBOF1kPIjCIIgvA5SfgRBEITXQcqPIAiC8DpI+REEQRBeByk/giAIwusg5UcQBEF4HR6b5C6ELsbKx0IwkS+GfsOMs5//CVt/X9GnxW3veSQFSx68B2O4CrdcxMlDu5H70UnpojsIYVi8agFCJkgrtpvPVeFPW/agwoVI0iR3giCIoY+HPL9wLGWKT2h4Hy+tXImX9p+EELwAS8Ply+6g+jUW/XwyLpbn4YWVLyDvyEVM/vki/Fraid8twuOZ4rv9JN7PXImVme/j5O0hWBDfl0gSBEEQQxHPKL+fzMBk4SwMvy/HRXZ4sXwPDCYBE+/rw6aQYVMx8XItyvfXMu/RjNr95ai9PBFTfyJfd5kQzJgkMI90D8r5DkVt5djz+VkIqum4mbauJAiCIHrHM8pPNQbC5fM43d58aBY3vVTcxrcNdw/tuDHApW/xhXzMt0QVuU365zqTMWaUGefPdLRxmv/NnjlMAfdjSRAEQQxFPKP8ZIUkq6d+QVScNyz9vyEmU8oEQRDErY1nlN8P0r/+9KAsP0hemTQ0pR/xUC8oQRAEMXh4pqpvPI+Lo8ZjcrummghhpKzA3MTQchEYfSdmycfAGCi4dpUVreucxPmLAsZP6lCnE0ew78y77E+PlSAIghh8PKP8Pq/FWfNEaH8TzlQUU1PhCzDD14zTNQbpujv8owFnR01H+OPTmfcnYPrjIZg67DRq/yFfdxkDak1mTPzxYoQr2aEyHAtmjof5awO7QhAEQdxKDNo8v9OVf0DePkPf5/nNuwdjuMdnOY/aj/cir7Qf5/mdqcAftr0LA83zIwiCuKWgndz7GVJ+BEEQQx8a3kEQBEF4HaT8CIIgCK+DlB9BEAThdZDyIwiCILwOUn4EQRCE10HKjyAIgvA6SPkRBEEQXke/zfMbCH5x6BP5W//x8byH5G8EQRCEt0KeH0EQBOF1kPIjCIIgvA5SfgRBEITXQcqPIAiC8DpI+REEQRBeByk/giAIwusg5UcQBEF4HaT8CIIgCK/DY5PclVODERauQ1jQdARcPoyEV/Tyle7pbZL7+Avf4IHWa7idv8F/3IbzY/1waNwI6WI3uDLJ3Z04EwRBEEMfD3l+sVi5Zinm3QO0Xh0O3Caf7gvXLmD2BQu+HzMBf7p3Mg6PuQ1jL5zH/dfk631mAOJMEARBDAk8pPz0yFq2Aumv5KKi5bp8ro9cuorRw25H/fjbYWGvcW78aJwbZsH4S/L1PjMAcSYIgiCGBDdtn98kyw/A8OE4LR8TBEEQhLPctMpv2H+IHX3M6yMIgiAI17hpld+Nf/8H+/tvKKTDPhP63Dbs2rVL+qyLlc8SBEEQtyI3rfI7o7gNuH4dk+Vj4Ic+jUmpfGMFEhISpM86GtVJEARxK3PTKj+MHolLN76H+vz3zPu7gQnnr2D8v0fg3Gj5OkEQBEF0w82r/EaMw9FxCtx+8RwWfHUacy/+gPN33glDz9P8CIIgCIJ2cicIgiC8j5vX8yMIgiAINyHlRxAEQXgdpPwIgiAIr4OUH0EQBOF1kPIjCIIgvA5SfgRBEITXQcqPIAiC8DpI+REEQRBeR79Nch89mtYV41y61G8bChIEQRADBHl+BEEQhNdByo8gCILwOkj5EQRBEF4HKT+CIAjC6yDlRxAEQXgdpPwIgiAIr4OUH0EQBOF1eGyenxC6GCsfC8FEgR3cMOPs53/C1t9XwCxddot7HknBkgfvwRiuwi0XcfLQbuR+dFK66A5CGBavWoCQCTySgPlcFf60ZQ8qXIgkzfMjCIIY+njI8wvHUqb4hIb38dLKlXhp/0kIwQuwNFy+7A6qX2PRzyfjYnkeXlj5AvKOXMTkny/Cr1XydTcIj2eK7/aTeD9zJVZmvo+Tt4dgQXxfIkkQBEEMRTyj/H4yA5OFszD8vhwX2eHF8j0wmARMvE8rXXeHsKmYeLkW5ftrmfdoRu3+ctRenoipP5Gvu0wIZkwSmEe6B+Vt7LCtHHs+PwtBNR19iCVBEAQxBPGM8lONgXD5PE63Nx+aYbkBKG5TyMeuox03Brj0Lb6QjwGL9O826Z/rTMaYUWacP9PRxmn+N3vmMAXcjyVBEAQxFPGM8pMVkqye+gVRcd6w9KnP0CFMKRMEQRC3Np5Rfj9I//rTg7L8IHll0tCUfsRDvaAEQRDE4OGZqr7xPC6OGo/J7ZpqIoSRsgJzE0PLRWD0nZglHwNjoODaVVa0rnMS5y8KGD+pQ51OHMG+M++yPz1WgiAIYvDxjPL7vBZnzROh/U04U1FMTYUvwAxfM07XGKTr7vCPBpwdNR3hj09n3p+A6Y+HYOqw06j9h3zdZQyoNZkx8ceLEa5kh8pwLJg5HuavDewKQRAEcSsxaPP8Tlf+AXn7DH2f5zfvHozhHp/lPGo/3ou80n6c53emAn/Y9i4MNM+PIAjiloI2s+1nSPkRBEEMfWh4B0EQBOF1kPIjCIIgvA5SfgRBEITXQcqPIAiC8DpI+REEQRBeByk/giAIwusg5UcQBEF4HaT8CIIgCK+j3ya5EwRBEMTNAnl+BEEQhNdByo8gCILwOkj5EQRBEF4HKT+CIAjC6yDlRxAEQXgZwP8PeiX84QJODVUAAAAASUVORK5CYII=)\n",
    "\n",
    "Estas aproximaciones se implementan típicamente mediante la convolución de la imagen con un par de máscaras $H_C$ (para columnas, detectando los bordes verticales) y $H_R$ (para filas, detectando los horizontales), es decir:\n",
    "\n",
    "$$\n",
    "G_R(i,j) = F(i,j) \\otimes H_R(i,j) \\\\\n",
    "G_C(i,j) = F(i,j) \\otimes H_C(i,j)\n",
    "$$\n",
    "\n",
    "Quizás el operador más popular que hace esto es el de **Sobel**, aunque hay muchos de ellos que proporcionan resultados aceptables. Estos operadores utilizan los dos kernels antes mencionados (normalmente de tamaño $3\\times3$ o $5\\times5$) que se convolucionan con la imagen original para calcular aproximaciones de las derivadas.\n",
    "\n",
    "Estos son algunos ejemplos (primera columna: nombre del operador; segunda: $H_R$; tercera columna: $H_C$):\n",
    "\n",
    "![image.png](data:image/png;base64,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)\n",
    "\n",
    "\n"
   ]
  },
  {
   "cell_type": "markdown",
   "metadata": {
    "id": "yBa7QdLkFFX3"
   },
   "source": [
    "### **<span style=\"color:green\"><b><i>Ejercicio 2:</i>  Jugar con las derivadas de Sobel</b></span>** (1.25 puntos)\n",
    "\n",
    "Ahora que hemos adquirido una comprensión básica de estos métodos, vamos a emplear los núcleos de Sobel ($S_x,S_y$) para calcular ambas derivadas y mostrarlas junto con la imagen original (`medical_3.jpg`).\n",
    "\n",
    "*Nótese que los valores de la imagen derivada pueden ser positivos **y negativos**, causados por los valores negativos en el kernel. Esto implica que la profundidad deseada de la imagen de destino (`ddepth`) tiene que ser al menos un tipo de datos con signo cuando se llama al método `filter2D()`."
   ]
  },
  {
   "cell_type": "code",
   "execution_count": null,
   "metadata": {
    "id": "6Kn56Aq1FFX3"
   },
   "outputs": [],
   "source": [
    "# Lee una de las imágenes, calcula ambas derivadas del kernel, aplícalas a la imagen (por separado) y muestra la imagen original y las derivadas en un gráfico 1x3.\n",
    "# Escriba su código aquí\n",
    "\n",
    "# Leer la imagen\n",
    "\n",
    "\n",
    "# Define los kernels horizontal y vertical\n",
    "\n",
    "\n",
    "# Aplica la convolución\n",
    "\n",
    "\n",
    "# ¡Y muéstralos!\n"
   ]
  },
  {
   "cell_type": "markdown",
   "metadata": {
    "id": "hTCqOEmpFFX3"
   },
   "source": [
    "Una vez que hemos calculado ambas imágenes derivadas $G_C$ y $G_R$, podemos determinar la imagen completa del borde calculando la magnitud del gradiente de la imagen y luego binarizando el resultado:\n",
    "\n",
    "\n",
    "$$|\\nabla F(x,y)| = \\sqrt{(F \\otimes G_C)^2 + (F \\otimes G_R)^2} \\approx |F \\otimes G_C| + |F \\otimes G_R|$$"
   ]
  },
  {
   "cell_type": "markdown",
   "metadata": {
    "id": "yTZ9VjKCFFX3"
   },
   "source": [
    "### **<span style=\"color:green\"><b><i>Ejercicio 3a: Momento de detectar los bordes</i></b></span>**   (2 puntos, por 3a y 3b juntos)\n",
    "\n",
    "Completa `edge_detection_chart()` que calcula la imagen de gradiente de una de entrada usando `kernel_h` y `kernel_v` (kernels para derivadas horizontales y verticales respectivamente) y **binariza la imagen resultante** (imagen final de bordes) usando `threshold`. A continuación, muestre en un gráfico de 1x3 `image`, la imagen de gradiente y, finalmente, ¡una imagen con los bordes detectados! (Sólo si `verbose` es True).\n",
    "\n",
    "*Consejo: debería [normalizar](https://docs.opencv.org/2.4/modules/core/doc/operations_on_arrays.html#normalize) la imagen de gradiente antes de umbralizar."
   ]
  },
  {
   "cell_type": "code",
   "execution_count": null,
   "metadata": {
    "id": "iHMcGPirFFX3"
   },
   "outputs": [],
   "source": [
    "# Ejercicio 3a\n",
    "# Implementar una función que calcule el gradiente de una imagen, tomando también como entrada los kernels de convolución.\n",
    "# También debe binarizar la imagen resultante usando un umbral.\n",
    "# Muestra la imagen de entrada, la imagen de gradiente (normalizada) y la imagen de borde binarizada en un gráfico de 1x3 (si verbose = True)\n",
    "def edge_detection_chart(image, kernel_h, kernel_v, threshold, verbose=False):\n",
    "    \"\"\" Computed the gradient of the image, binarizes and display it.\n",
    "\n",
    "        Args:\n",
    "            image: Imagen de entrada\n",
    "            kernel_h: kernel para la derivada horizontal\n",
    "            kernel_v: kernel para la derivada vertical\n",
    "            threshold: valor del umbral para la binarización\n",
    "            verbose:  Sólo muestra imágenes si es True\n",
    "\n",
    "        Returns:\n",
    "            edges:  imagen binaria de los borde\n",
    "\n",
    "    \"\"\"\n",
    "\n",
    "    # Calcular derivadas\n",
    "\n",
    "\n",
    "    # Calcular gradiente\n",
    "\n",
    "\n",
    "    #Normalizar gradiente\n",
    "\n",
    "\n",
    "    # Umbral para obtener bordes\n",
    "\n",
    "\n",
    "    if verbose:\n",
    "        # Mostrar la imagen inicial\n",
    "\n",
    "\n",
    "        # Mostrar la imagen del gradiente\n",
    "\n",
    "\n",
    "        # Mostrar la imagen de los bordes\n"
   ]
  },
  {
   "cell_type": "markdown",
   "metadata": {
    "id": "mtaETC5qFFX3"
   },
   "source": [
    "Puedes utilizar el siguiente código para **comprobar si tus resultados son correctos**:"
   ]
  },
  {
   "cell_type": "code",
   "execution_count": null,
   "metadata": {
    "id": "kAMRhuAVFFX4"
   },
   "outputs": [],
   "source": [
    "image = np.array([[10,60,20],[60,22,74],[72,132,2]], dtype=np.uint8)\n",
    "\n",
    "kernel_h = np.array([[1,0,-1],[2,0,-2],[1,0,-1]])*1/4\n",
    "kernel_v = np.array([[-1,-2,-1],[0,0,0],[1,2,1]])*1/4\n",
    "\n",
    "print(edge_detection_chart(image, kernel_h, kernel_v, 100))"
   ]
  },
  {
   "cell_type": "markdown",
   "metadata": {
    "id": "RIqkvfuuFFX4"
   },
   "source": [
    "<font color='blue'>**Salida esperada:**  </font>\n",
    "\n",
    "    [[  0   0   0]\n",
    "     [255 255 255]\n",
    "     [  0 255   0]]"
   ]
  },
  {
   "cell_type": "markdown",
   "metadata": {
    "id": "k5Wsft3IFFX4"
   },
   "source": [
    "### **<span style=\"color:green\"><b><i>Ejercicio 3b: Probando nuestro detector</i></b></span>**\n",
    "\n",
    "Ahora **prueba el método implementado** con kernels Sobel de diferentes tamaños ($3\\times3$, $5\\times5$, ...) y con otros operadores (Roberts, Prewitt, ...)."
   ]
  },
  {
   "cell_type": "code",
   "execution_count": null,
   "metadata": {
    "id": "w2LzwOF5FFX4"
   },
   "outputs": [],
   "source": [
    "# Ejercicio 3b\n",
    "# Lee la imagen, establece tus kernels (Sobel, Roberts, Prewitt, etc.) e interactúa con el parámetro umbral.\n",
    "# ¡Escribe tu código aquí!\n",
    "\n",
    "# Leer la imagen\n",
    "image = cv2.imread(images_path + 'medical_3.jpg', 0)\n",
    "\n",
    "# Define los kernel (Sobel, Roberts, Prewitt, ...)\n",
    "kernel_h =\n",
    "kernel_v =\n",
    "\n",
    "#¡Interactúa con tu código!\n",
    "interactive( edge_detection_chart, image=fixed(image), kernel_h=fixed(kernel_h), kernel_v=fixed(kernel_v), threshold=(0,255,10), verbose=fixed(True))"
   ]
  },
  {
   "cell_type": "markdown",
   "metadata": {
    "id": "FTBeMJgaFFX4"
   },
   "source": [
    "### <font color=\"blue\"><b><i>Pensándolo bien (1)</i></b></font>\n",
    "\n",
    "Ahora, **responde a las siguientes preguntas**::\n",
    "\n",
    "- - ¿Qué pasa si usamos un kernel más grande?\n",
    "  \n",
    "    <p style=\"margin: 4px 0px 6px 5px; color:blue\"><i>Pon tu respuesta aquí!</i></p>\n",
    "    \n",
    "- ¿Hay diferencias entre Sobel y otros operadores?\n",
    "  \n",
    "    <p style=\"margin: 4px 0px 6px 5px; color:blue\"><i>Pon tu respuesta aquí!</i></p>\n",
    "    \n",
    "- ¿Qué errores aparecen utilizando esos operadores?\n",
    "\n",
    "    <p style=\"margin: 4px 0px 6px 5px; color:blue\"><i>Pon tu respuesta aquí!</i></p>\n",
    "    \n",
    "- ¿Por qué los kernels se suelen dividir por un número? (por ejemplo, $3\\times3$ Sobel se divide por 4)\n",
    "\n",
    "    <p style=\"margin: 4px 0px 6px 5px; color:blue\"><i>Pon tu respuesta aquí!</i></p>"
   ]
  },
  {
   "cell_type": "markdown",
   "metadata": {
    "id": "UVPJc4afFFX4"
   },
   "source": [
    "## 1.2 Operador DroG\n",
    "\n",
    "A pesar de la sencillez de las técnicas anteriores, presentan un notable inconveniente: su rendimiento está muy influenciado por el ruido de la imagen. Observando la siguiente figura podemos ver cómo, teniendo una función aparentemente no tan ruidosa (primera fila), en la que es fácil detectar un escalón (un cambio brusco en sus valores) alrededor de 1000, la respuesta de la derivada con ese nivel de ruido es tan grande como el propio escalón!$\\\\[5pt]$\n",
    "\n",
    "<img src=\"./imagenes/example_of_derivative_of_noisy_function.PNG\" width=\"600\"><br />\n",
    "\n",
    "<!--\n",
    "<img src='https://drive.google.com/uc?export=view&id=1Df2SjeFXoDCif4NAOgmBgEh40nF2cfI4' width=\"600\">\n",
    "-->\n",
    "\n",
    "<center><i>Fuente: S. Seitz</i></center>\n",
    "\n",
    "¡Pero no todo está perdido! Una técnica de procesamiento de imágenes ya estudiada puede utilizarse para mitigar ese ruido: la **image smoothing** y más concretamente, el **filtrado gaussiano**. La idea básica es suavizar la imagen y luego aplicar un operador de gradiente, es decir, calcular $\\frac{\\partial}{\\partial x}(f \\otimes g)$. No sólo eso, esto se puede hacer de manera aún más eficiente gracias a la propiedad de la derivada de convolución:$\\\\[5pt]$\n",
    "\n",
    "\n",
    "$$\\frac{\\partial}{\\partial x}(f \\otimes g) = f \\otimes \\frac{\\partial}{\\partial x}g\n",
    "$$$\\\\[5pt]$\n",
    "\n",
    "Es decir, precalcular los kernels resultantes de la convolución del filtrado Gaussisan y los de Sobel, y luego convolucionarlos con la imagen a procesar. Con eso nos ahorramos una operación!$\\\\[5pt]$\n",
    "\n",
    "Esta combinación de suavizado y gradiente se suele llamar **Operador derivado del Gaussiano (DroG)**:$\\\\[5pt]$\n",
    "\n",
    "$$\n",
    "\\nabla [f(x,y)\\otimes g_\\sigma(x,y)] =\n",
    "f(x,y) \\otimes \\nabla [g_\\sigma(x,y)] =\n",
    "f(x,y) \\otimes \\text{DroG} (x,y)\n",
    "$$\n",
    "\n",
    "$$\n",
    "DroG(x,y) =\n",
    "\\nabla \\left[ g_\\sigma (x,y) \\right] =\n",
    "\\underbrace{\\begin{bmatrix}\n",
    "\\frac{\\partial}{\\partial x}[g_\\sigma(x)g_\\sigma(y)] \\\\\n",
    "\\frac{\\partial}{\\partial y}[g_\\sigma(x)g_\\sigma(y)] \\end{bmatrix}}_{\\text{separability}} =\n",
    "\\underbrace{\\begin{bmatrix} \\frac{-xg_\\sigma(x,y)}{\\sigma^2} \\\\ \\frac{-yg_\\sigma(x,y)}{\\sigma^2}\\end{bmatrix}}_{g(x)'=-xg(x)/\\sigma^2}\n",
    "$$\n",
    "\n",
    "Recordemos la expresión de la distribución gaussiana con 2 variables, donde la desviación típica $\\sigma$ controla el grado de suavidad:\n",
    "\n",
    "\n",
    "$$g_{\\sigma}(x,y) = \\frac{1}{2\\pi\\sigma^2}exp\\left(-\\frac{x^2+y^2}{2\\sigma^2}\\right)$$\n",
    "\n",
    "Tenga en cuenta que la máscara o kernel DroG se crea una sola vez."
   ]
  },
  {
   "cell_type": "markdown",
   "metadata": {
    "id": "xOfxhkUfFFX4"
   },
   "source": [
    "### **<span style=\"color:green\"><b><i>Ejercicio 4: Aplicando DroG</i></b></span>** (1.5 puntos)\n",
    "\n",
    "Nos gustaría probar esta técnica robusta de detección de bordes, así que completa el método `gaussian_kernel()` que construye un filtro Gaussiano y luego lo deriva, obteniendo la máscara DroG. Finalmente, llama a `edge_detection_chart()` usando esa máscara.\n",
    "\n",
    "Sus entradas son:\n",
    "- una imagen a procesar,\n",
    "- el tamaño de apertura del kernel,\n",
    "- la desviación estándar, y\n",
    "- el umbral de binaritazión de la imagen de gradiente."
   ]
  },
  {
   "cell_type": "code",
   "execution_count": null,
   "metadata": {
    "id": "ELl_61tGFFX4"
   },
   "outputs": [],
   "source": [
    "# Ejercicio 4\n",
    "# Implementar una función que construya las máscaras DroG horizontales y verticales y llame a 'edge_detection_chart' usando esas máscaras.\n",
    "# Inputs: una imagen, el tamaño de apertura del kernel, la desviación estándar gaussiana y el umbral para la binarización de la imagen de gradiente.\n",
    "# Devuelve los kernels horizontal y vertical\n",
    "def gaussian_kernel(image, w_kernel, sigma, threshold, verbose=False):\n",
    "    \"\"\" Construye el operador DroG y llama a edge_detection_chart.\n",
    "\n",
    "        Args:\n",
    "            image:  Imagen de entrada\n",
    "            w_kernel: Tamaño de apertura del kernel\n",
    "            sigma: desviación estándar de la distribución gaussiana\n",
    "            umbral: Valor umbral para la binarización\n",
    "            verbose: Sólo muestra imágenes si es True\n",
    "\n",
    "        Returns:\n",
    "            kernel_h, kernel_v: Derivadas horizontal y vertical de DroG\n",
    "    \"\"\"\n",
    "\n",
    "    # Crear filtro gaussiano\n",
    "\n",
    "\n",
    "    # Definir ejes x e y\n",
    "\n",
    "\n",
    "    # Construir DroG\n",
    "\n",
    "\n",
    "    # Llamar al gráfico de detección de bordes usando DroG\n"
   ]
  },
  {
   "cell_type": "markdown",
   "metadata": {
    "id": "I3f0ltsaFFX4"
   },
   "source": [
    "Puedes utilizar el siguiente código para **comprobar si tus resultados son correctos**:"
   ]
  },
  {
   "cell_type": "code",
   "execution_count": null,
   "metadata": {
    "id": "O1kZZ4UoFFX4"
   },
   "outputs": [],
   "source": [
    "# Crear una imagen de entrada\n",
    "image = np.array([[10,60,20],[60,22,74],[72,132,2]], dtype=np.uint8)\n",
    "\n",
    "# Aplicar el kernel gaussiano\n",
    "gaussian_kernel(image, w_kernel=1, sigma=1.2, threshold=100)"
   ]
  },
  {
   "cell_type": "markdown",
   "metadata": {
    "id": "E5lqM02WFFX4"
   },
   "source": [
    "<font color='blue'>**Salida esperada:**  </font>\n",
    "\n",
    "    (array([[ 0.03832673, -0.        , -0.03832673],\n",
    "            [ 0.05423735, -0.        , -0.05423735],\n",
    "            [ 0.03832673, -0.        , -0.03832673]]),\n",
    "     array([[ 0.03832673,  0.05423735,  0.03832673],\n",
    "            [-0.        , -0.        , -0.        ],\n",
    "            [-0.03832673, -0.05423735, -0.03832673]]))"
   ]
  },
  {
   "cell_type": "markdown",
   "metadata": {
    "id": "GOqzJepLFFX4"
   },
   "source": [
    "### <font color=\"blue\"><b><i>Pensándolo bien (2)</i></b></font>\n",
    "\n",
    "Ahora **prueba este método** y juega con los parámetros interactivos. Luego **contesta a las siguientes preguntas**:\n",
    "\n",
    "- ¿Qué ocurre si se utiliza un kernel mayor?\n",
    "  \n",
    "    <p style=\"margin: 4px 0px 6px 5px; color:blue\"><i>Pon tu respuesta aquí!</i></p>\n",
    "\n",
    "- ¿Qué tipo de errores aparecen y desaparecen al modificar sigma?\n",
    "  \n",
    "    <p style=\"margin: 4px 0px 6px 5px; color:blue\"><i>Pon tu respuesta aquí!</i></p>\n",
    "    \n",
    "- ¿Por qué el gradiente de la imagen tiene valores más bajos que el de la imagen original?  *Tip: [image normalization](https://stackoverflow.com/questions/40645985/opencv-python-normalize-image/42164670)*\n",
    "\n",
    "    <p style=\"margin: 4px 0px 6px 5px; color:blue\"><i>Pon tu respuesta aquí!</i></p>\n",
    "    \n",
    "- Ahora que has probado diferentes técnicas, en tu opinión, ¿cuál es la mejor para este tipo de imágenes?\n",
    "\n",
    "    <p style=\"margin: 4px 0px 6px 5px; color:blue\"><i>Pon tu respuesta aquí!</i></p>"
   ]
  },
  {
   "cell_type": "code",
   "execution_count": null,
   "metadata": {
    "id": "FYqU7UokFFX4"
   },
   "outputs": [],
   "source": [
    "# Leer la imagen\n",
    "image = cv2.imread(images_path + 'medical_3.jpg', 0)\n",
    "\n",
    "# Interactuar con los 3 parámetros\n",
    "interactive(gaussian_kernel, image=fixed(image), w_kernel=(1,5,1), sigma=(0.4,5,0.5), threshold=(0,255,10), verbose=fixed(True))"
   ]
  },
  {
   "cell_type": "markdown",
   "metadata": {
    "id": "tnedAr7jFFX4"
   },
   "source": [
    "### **<span style=\"color:green\"><b><i>Ejercicio 5: Medir la eficiencia</i></b></span>**  (0.75 puntos)\n",
    "\n",
    "Por último, **se le pide** que compare el tiempo de ejecución de la creación de una máscara DroG utilizando su código anterior (combinando dos filtros gaussianos 1-D), con la creación de una máscara DroG utilizando un filtro gaussiano 2-D. *Utilice un tamaño de apertura grande (por ejemplo 500)*.\n",
    "\n",
    "*Tip: [cómo medir el tiempo de ejecución en Python](https://stackoverflow.com/questions/14452145/how-to-measure-time-taken-between-lines-of-code-in-python)*"
   ]
  },
  {
   "cell_type": "code",
   "execution_count": null,
   "metadata": {
    "id": "8NRfjqwlFFX4"
   },
   "outputs": [],
   "source": [
    "# Ejercicio 5\n",
    "\n",
    "import time\n",
    "\n",
    "print(\"Midiendo el tiempo de ejecucion necesario para  ...\")\n",
    "\n",
    "# Iniciar temporizador\n",
    "\n",
    "# Crear filtro gaussiano 1D\n",
    "\n",
    "\n",
    "# Definir ejes x e y\n",
    "\n",
    "\n",
    "# Construir DroG usando filtros Gaussianos 1D\n",
    "\n",
    "\n",
    "# Detener temporizador\n",
    "\n",
    "\n",
    "# Iniciar temporizador\n",
    "\n",
    "\n",
    "# Crear filtro gaussiano 2D\n",
    "\n",
    "\n",
    "# Definir ejes x e y\n",
    "\n",
    "\n",
    "# Construir DroG usando filtro Gaussiano 2D\n",
    "\n",
    "\n",
    "# Detener temporizador"
   ]
  },
  {
   "cell_type": "markdown",
   "metadata": {
    "id": "DCf3ZIsucn7K"
   },
   "source": [
    "# 2 Operadores basados en la segunda derivada\n",
    "\n",
    "Del mismo modo que podemos detectar bordes observando la imagen de gradiente (primera derivada), también es posible hacerlo analizando la salida de los operadores basados en la segunda derivada.\n",
    "\n",
    "Los operadores basados en la primera derivada intentan detectar bordes buscando valores de magnitud elevada de dichas derivadas. Recordemos la figura mostrada en la sección anterior, que ilustra dos funciones continuas unidimensionales $f(x)$ y sus primeras derivadas.\n",
    "\n",
    "\n",
    "<img src=\"./imagenes/second_derivative_of_continuous_function.PNG\" width=\"400\">\n",
    "\n",
    "<!--\n",
    "<img src='https://drive.google.com/uc?export=view&id=1E3a2z-S0hHPhu5ilpO6QSWO77EBghkRK' width=\"400\">\n",
    "-->\n",
    "\n",
    "Añadimos ahora una tercera fila (c) que muestra sus segundas derivadas, y podemos comprobar cómo tales valores corresponden a... **cruces por cero!**. Es decir, una segunda derivada produce un cruce por cero en los puntos donde el gradiente presenta un máximo, por lo que podríamos detectar bordes buscando esos cruces.\n",
    "\n",
    "Por desgracia, las cosas se complican un poco cuando pasamos a un espacio 2D (como las imágenes). ¿Por qué? Porque dependiendo de la orientación del borde, este cruce por cero puede pasar casi desapercibido (véase, por ejemplo, c):\n",
    "\n",
    "\n",
    "<img src=\"./imagenes/second_derivatives_of_2D_functions.PNG\" width=\"500\">\n",
    "\n",
    "<!--\n",
    "<img src='https://drive.google.com/uc?export=view&id=1832wC_8Nki2UVTiDSjW4PAnE0CT68NW-' width=\"500\">\n",
    "-->\n",
    "\n",
    "\n",
    "En este Notebook vamos a explorar dos métodos que se enfrentan a este problema y detectan bordes utilizando la segunda derivada. Estos son:\n",
    "\n",
    "- **Operador laplaciano** (Sección 2.1)\n",
    "- **Operador LoG** (Sección 2.2)\n",
    "\n",
    "Además, también echaremos un vistazo a un algoritmo muy utilizado que es una combinación de diferentes técnicas: el **algoritmo Canny** (Sección 2.3)."
   ]
  },
  {
   "cell_type": "markdown",
   "metadata": {
    "id": "JTt-9scodBHD"
   },
   "source": [
    "## Contexto del problema - Detección de bordes para imágenes médicas\n",
    "\n",
    "Desgraciadamente, no has sido aceptado (¡todavía!) por el equipo investigador del *Hospital Clínico* porque los resultados obtenidos en el Notebook anterior no eran tan buenos como se esperaba. De todas formas, te han mostrado los algoritmos que están utilizando actualmente para que puedas estudiarlo de cara a futuras entrevistas. ¡Vamos a echarle un vistazo!\n",
    "\n",
    "\n",
    "<img src=\"./imagenes/hired.jpg\" width=\"300\">\n",
    "\n",
    "<!--\n",
    "<img src='https://drive.google.com/uc?export=view&id=11rIYViyLRGyzWO5CcTvQtAx7oVnygO8j' width=\"300\">\n",
    "-->"
   ]
  },
  {
   "cell_type": "markdown",
   "metadata": {
    "id": "kP6pO7jkdFHw"
   },
   "source": [
    "## 2.1  Operador de Laplace\n",
    "\n",
    "Comparado con los detectores de bordes basados en la primera derivada, como el operador de Sobel, el operador de Laplace puede dar mejores resultados en la localización de bordes, ya que es\n",
    "- un operador lineal\n",
    "- robusto frente al ruido,\n",
    "- preciso en la localización de objetos.\n",
    "\n",
    "La idea subyacente es combinar segundas derivadas en direcciones perpendiculares. Así, se define como:\n",
    "\n",
    "$$\n",
    "\\nabla^2 f(i,j) =\n",
    "\\frac{\\partial^2}{\\partial x^2}f(i,j) +\n",
    "\\frac{\\partial^2}{\\partial y^2}f(i,j)\n",
    "$$\n",
    "\n",
    "Nótese que, por definición, **devuelve un escalar**, no un vector como en el caso del gradiente. De hecho, el Laplaciano es la traza de la *matriz hessiana*, que caracteriza completamente la segunda derivada de una función:\n",
    "\n",
    "$$\n",
    "H(f) =\n",
    "\\begin{bmatrix}\n",
    "\\frac{\\partial f^2}{\\partial x^2} & \\frac{\\partial}{\\partial x}\\frac{\\partial f}{\\partial y} \\\\\n",
    "\\frac{\\partial f}{\\partial y}\\frac{\\partial f}{\\partial x} & \\frac{\\partial f^2}{\\partial y^2}\n",
    "\\end{bmatrix}\n",
    "$$\n",
    "\n",
    "\n",
    "### Implementación\n",
    "Veamos ahora cómo se implementa el operador Laplaciano.\n",
    "\n",
    "1. Se consideran las primeras derivadas (OpenCV utiliza Sobel pero cualquiera es válida): $\\\\[5pt]$\n",
    "\n",
    "$$\\frac{\\partial f(x,y)}{\\partial x} = f_x(x,y) \\approx G_R(i,j) = f(i+1,j) - f(i,j) \\\\[5pt]$$\n",
    "\n",
    "$$\\frac{\\partial f(x,y)}{\\partial y} = f_x(x,y) \\approx G_C(i,j) = f(i,j+1) - f(i,j) \\\\[5pt]$$\n",
    "\n",
    "2. Luego, se toman las segundas derivadas usando lo anterior:\n",
    "\n",
    "$$g = \\frac{\\partial f^2}{\\partial x^2} = f_{xx}(x,y) \\approx G_R(i,j) - G_R(i-1,j) = f(i+1,j) - 2f(i,j) + f(i-1,j) \\\\[5pt]$$\n",
    "\n",
    "$$h = \\frac{\\partial f^2}{\\partial y^2} = f_{yy}(x,y) \\approx G_C(i,j) - G_C(i-1,j) = f(i,j+1) - 2f(i,j) + f(i,j-1) \\\\[10pt]$$\n",
    "\n",
    "3. Por último, implementarlo como una convolución con un cierto kernel $L[F(i,j)] = F(i,j) \\otimes L(i,j)$ y aplicar su propiedad distributiva: $\\\\[10pt]$\n",
    "$$\\underbrace{f \\otimes (g + h)}_{\\text{One convolution}}\n",
    "=\n",
    "\\underbrace{(f \\otimes g) + (f \\otimes h)}_{\\text{Two convolutions}}\\\\[10pt]$$\n",
    "\n",
    "La buena noticia es que ¡podemos obtener un kernel que realice las dos convoluciones a la vez!:\n",
    "\n",
    "![image.png](data:image/png;base64,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)"
   ]
  },
  {
   "cell_type": "markdown",
   "metadata": {
    "id": "2Nz6_JutdSvq"
   },
   "source": [
    "### Cruce por cero\n",
    "\n",
    "Nótese que tras aplicar ese kernel, **se necesita un algoritmo que detecte los cruces por cero** para devolver una imagen binaria de los bordes. Un ejemplo de un algoritmo simple de cruce por cero:\n",
    "\n",
    "> 1. Seleccionar un número positivo pequeño (umbral) $th$.\n",
    "> 2. Un píxel se etiqueta como borde si en la imagen laplaciana\n",
    "> - su valor es menor que $-th$ y al menos uno de sus vecinos es mayor que $th$, o\n",
    "> - su valor es mayor que $th$ y al menos uno de sus vecinos es menor que $-th$."
   ]
  },
  {
   "cell_type": "markdown",
   "metadata": {
    "id": "hm1IFDPedVXL"
   },
   "source": [
    "### Limitaciones\n",
    "\n",
    "Desafortunadamente, el operador Laplaciano es muy sensible al ruido, lo que resulta en una mala detección de bordes. Solución: Si la imagen se filtra utilizando un filtro gaussiano antes de aplicar el operador de Laplace, podemos resolver parcialmente el problema del ruido. En este caso, se denomina **LoG (Laplaciano del Gaussiano)**."
   ]
  },
  {
   "cell_type": "markdown",
   "metadata": {
    "id": "dXnf-YoRdYJE"
   },
   "source": [
    "## Operador LoG\n",
    "\n",
    "Así, el operador LoG primero suaviza la imagen, y luego aplica el operador Laplaciano, al que aplicando las propiedades de convolución se llega:\n",
    "\n",
    "$$\n",
    "\\nabla^2[f(x,y)\\otimes g_\\sigma(x,y)]\n",
    "=\n",
    "f(x,y) \\otimes \\nabla^2[g_\\sigma(x,y)]\n",
    "= f(x,y) \\otimes LoG_\\sigma(x,y)\n",
    "$$\n",
    "\n",
    "LoG es un operador isotrópico, es decir, mantiene la simetría radial. De este modo, se supone que la covarianza en ambas dimensiones de la imagen es la misma.\n",
    "\n",
    "$$LoG_\\sigma (x,y) = \\frac{1}{\\pi \\sigma^4}\n",
    "\\left[ \\frac{x^2+y^2}{2 \\sigma^2} -1 \\right] \\exp^{-\\frac{x^2+y^2}{2 \\sigma^2}}\n",
    "=\n",
    "\\left[ \\frac{r^2}{2 \\sigma^2} -1 \\right] \\exp^{-\\frac{r^2}{2 \\sigma^2}}\n",
    "= LoG_\\sigma(r^2)\n",
    "$$\n",
    "\n",
    "**¡Imprimamos el operador LoG!"
   ]
  },
  {
   "cell_type": "code",
   "execution_count": null,
   "metadata": {
    "id": "j73fgQardbP3"
   },
   "outputs": [],
   "source": [
    "# Filtro Gaussiano\n",
    "v = np.arange(-5,5,0.1)\n",
    "X, Y = np.meshgrid(v,v)\n",
    "covar = np.array([[2, 0],[0, 2]]) ## Assumiendo que no existe correlación entre X e Y\n",
    "gauss_filter = np.exp(-0.5*(X**2/covar[0][0]+Y**2/covar[1][1]))\n",
    "\n",
    "# Filtro de Laplace\n",
    "laplace_filter = np.array(([[0,1,0],[1,-4,1],[0,1,0]]), dtype=\"float\")\n",
    "\n",
    "# Operador LoG\n",
    "LoG = cv2.filter2D(gauss_filter, -1, laplace_filter)\n",
    "\n",
    "# Mostrandolo en un gráfico!\n",
    "fig = plt.figure()\n",
    "ax = fig.gca(projection='3d')\n",
    "ax.plot_surface(X,Y,LoG,cmap='summer', edgecolor='none')"
   ]
  },
  {
   "cell_type": "markdown",
   "metadata": {
    "id": "PIXh0xg7dg6E"
   },
   "source": [
    "Como nota al margen, el LoG no es separable, pero puede implementarse como **DoG (Diferencia de Gaussianos)**, una suma de operadores separables, reduciendo su complejidad de $O(N^2)$ a $O(4N)$:\n",
    "\n",
    "$$\n",
    "DoG_{\\sigma_1\\sigma_2}(x,y) =\n",
    "g_{\\sigma_1}(x,y) - g_{\\sigma_2}(x,y) =\n",
    "g_{\\sigma_1}(x)g_{\\sigma_1}(y) - g_{\\sigma_2}(x) g_{\\sigma_2}(y)\n",
    "$$\n",
    "\n",
    "\n",
    "Dando la relación $\\sigma_1 / \\sigma_2 = 1,6$ la mejor aproximación de LoG. Este enfoque de reducción de complejidad se emplea en el detector de puntos clave SIFT.\n",
    "\n",
    "### Limitaciones\n",
    "\n",
    "- Es costoso computacionalmente.\n",
    "- No proporciona información sobre la orientación de los bordes.\n",
    "- La salida contiene valores negativos y no enteros, por lo que a efectos de visualización la imagen debe normalizarse al rango 0-255.\n",
    "- Se necesita un método de paso por cero.\n",
    "- Tiende a redondear las esquinas de los objetos (más fuertemente a medida que $\\sigma$ crece)."
   ]
  },
  {
   "cell_type": "markdown",
   "metadata": {
    "id": "k6E-ES_rdku_"
   },
   "source": [
    "### Experimentando los operadores Laplaciano y LoG\n",
    "\n",
    "Ahora que ya somos casi expertos en los operadores Laplaciano y LoG, ¡juguemos un poco con ellos!"
   ]
  },
  {
   "cell_type": "markdown",
   "metadata": {
    "id": "ogKO6eHddlb-"
   },
   "source": [
    "### **<span style=\"color:green\"><b><i>Ejercicio 6a: Aplicando el suavizado Gaussiano</i></b></span>**  (2 puntos, por 6a y 6b juntos)\n",
    "\n",
    "Primero, completa la función `gaussian_smoothing()` que suaviza una imagen usando un filtro Gaussiano. Luego, la normaliza y devuelve la imagen resultante."
   ]
  },
  {
   "cell_type": "code",
   "execution_count": null,
   "metadata": {
    "id": "-2oM-iMVdqb5"
   },
   "outputs": [],
   "source": [
    "# Ejercicio 6a\n",
    "# Implementa una función que suaviza una imagen de entrada usando un filtro gaussiano y luego la normaliza.\n",
    "def gaussian_smoothing(image, sigma, w_kernel):\n",
    "    \"\"\" Blur and normalize input image.\n",
    "\n",
    "        Args:\n",
    "            image: Input image to be binarized\n",
    "            sigma: Standard deviation of the Gaussian distribution\n",
    "            w_kernel: Kernel aperture size\n",
    "\n",
    "        Returns:\n",
    "            binarized: Blurred image\n",
    "    \"\"\"\n",
    "    # Define un kernel 1D\n",
    "\n",
    "    # Aplica la propiedad distributiva de la convolución\n",
    "\n",
    "\n",
    "    # Suaviza la imagen\n",
    "\n",
    "\n",
    "    # Normaliza a intervalo de valores  [0 254]"
   ]
  },
  {
   "cell_type": "markdown",
   "metadata": {
    "id": "0OXQWuI_dt8q"
   },
   "source": [
    "Ahora vamos a ver las diferencias entre los operadores de Laplace y LoG."
   ]
  },
  {
   "cell_type": "markdown",
   "metadata": {
    "id": "iW-bRsS6dwv1"
   },
   "source": [
    "### **<span style=\"color:green\"><b><i>Ejercicio 6b:Detección de bordes con Laplace y LoG</i></b></span>**\n",
    "\n",
    "Complete `laplace_testing()` que aplica el operador Laplaciano a la imagen de entrada y a una versión suavizada de la imagen de entrada (utilice la función implementada anteriormente para suavizarla). Muestra ambas imágenes junto con la original en un gráfico de 1x3. Utilice como entradas: una imagen, el tamaño del filtro Laplaciano (debe ser impar), y los parámetros del filtro Gaussiano.\n",
    "\n",
    "Tenga en cuenta que sería posible reducir el tiempo de cálculo si LoG fuera precalculado. Se trata de convolucionar los filtros Laplace y Gaussiano en lugar de aplicarlos por separado.\n",
    "\n",
    "*Tip: OpenCV define el operador de Laplace como [cv2.Laplacian()](https://docs.opencv.org/3.4/d5/db5/tutorial_laplace_operator.html)*\n",
    "\n",
    "\n"
   ]
  },
  {
   "cell_type": "code",
   "execution_count": null,
   "metadata": {
    "id": "8_EG_DPxdziq"
   },
   "outputs": [],
   "source": [
    "# Ejercicio 6b\n",
    "# Implementar una función que aplique el operador Laplaciano a la imagen de entrada y a una versión suavizada de la misma.\n",
    "# Muestra un gráfico 1x3 con la imagen original y las dos imágenes de bordes resultantes.\n",
    "# Entradas: imagen, tamaño del kernel Laplaciano, sigma y tamaño del kernel Gaussiano\n",
    "def laplace_testing(image, size_Laplacian, sigma, w_gaussian):\n",
    "    \"\"\"  Aplica los operadores Laplaciano y Log a una imagen.\n",
    "\n",
    "        Args:\n",
    "            image: Imagen de entrada a binarizar\n",
    "            size_Laplacian: tamaño del kernel laplaciano (impar)\n",
    "            sigma: desviación estándar de la distribución gaussiana\n",
    "            w_gaussian: Tamaño de apertura del kernel gaussiano\n",
    "    \"\"\"\n",
    "\n",
    "    # Suavizar la imagen\n",
    "\n",
    "\n",
    "    # Aplicar el Laplaciano a la imagen original\n",
    "\n",
    "\n",
    "    # Aplicar el Laplaciano a la imagen suavizada\n",
    "\n",
    "\n",
    "    # Mostrar imagen inicial\n",
    "\n",
    "\n",
    "    # Show laplacian\n",
    "\n",
    "\n",
    "    # Mostrar LoG"
   ]
  },
  {
   "cell_type": "markdown",
   "metadata": {
    "id": "9dy9aQ8kd3f7"
   },
   "source": [
    "Es hora de probar este método a nuestras imágenes médicas y jugar con los parámetros interactivos.$\\\\[5pt]$     "
   ]
  },
  {
   "cell_type": "code",
   "execution_count": null,
   "metadata": {
    "id": "w9l1q29Hd4X7"
   },
   "outputs": [],
   "source": [
    "# Leer una imagen\n",
    "image = cv2.imread(images_path + 'medical_3.jpg', 0)\n",
    "\n",
    "# Interactuar con los parámetros!\n",
    "interact(laplace_testing, image=fixed(image), size_Laplacian=(1,7,2), sigma=(1,3,0.1), w_gaussian=(1,3,1))"
   ]
  },
  {
   "cell_type": "markdown",
   "metadata": {
    "id": "erZD2Jbkd8dO"
   },
   "source": [
    "### <font color=\"blue\"><b><i>Pensándolo bien (2)</i></b></font>\n",
    "\n",
    "Ahora, **responde a las siguientes preguntas**:\n",
    "\n",
    "- ¿Se puede aplicar el Laplaciano sin un suavizado previo?\n",
    "  \n",
    "    <p style=\"margin: 4px 0px 6px 5px; color:blue\"><i>Pon tu respuesta aquí!</i></p>\n",
    "    \n",
    "- ¿Qué se necesitaría para obtener los bordes de esas imágenes?\n",
    "  \n",
    "    <p style=\"margin: 4px 0px 6px 5px; color:blue\"><i>Pon tu respuesta aquí!</i></p>"
   ]
  },
  {
   "cell_type": "markdown",
   "metadata": {
    "id": "e0jDZj2PeBOI"
   },
   "source": [
    "## 2.3  El algoritmo Canny\n",
    "\n",
    "El detector de bordes Canny <sup>[[1]](#cite1)</sup> es un algoritmo que aplica el operador DroG , la supresión de no máximos (non-maxima suppression o NMS) y la histéresis (hysteresis) para la detección de bordes en imágenes. Fue diseñado para ser un buen detector, producir una buena localización y proporcionar una única respuesta!.\n",
    "\n",
    "Este algoritmo consta de los siguientes pasos\n",
    "\n",
    "1. *Filtrado de ruido*. iltrar cualquier ruido utilizando un filtro gaussiano.$\\\\[5pt]$\n",
    "\n",
    "2. *Obtención de la imagen de gradiente*. Aplica el Operador DroG operator.$\\\\[5pt]$\n",
    "\n",
    "3. *Non-maximum suppression* Esto elimina los píxeles que no se consideran parte de un borde. Normalmente, la imagen de gradiente obtenida tras utilizar DroG presenta bordes gruesos. La idea es mantener sólo aquellos píxeles que son máximos dentro de su vecindad en la dirección del gradiente, suprimiendo el resto de ellos. De este modo, sólo quedarán las líneas finas (bordes candidatos). Para ello:\n",
    "\n",
    "     -  Consideramos 4 direcciones principales:  $[0,45]$, $[45,90]$, $[90,135]$, $[135,180]$. El ángulo del gradient [i,j]$  se aproxima por donde se posa.\n",
    "     - Comprobamos el $G[i,j]$ en los tres puntos a lo largo de la dirección seleccionada, y elegimos el máximo. De esta forma tenemos una única respuesta en cada borde.\n",
    "\n",
    "\n",
    "<img src=\"./imagenes/canny_nonmaxima.png\" width=\"800\">\n",
    "\n",
    "<!--\n",
    "<img src='https://drive.google.com/uc?export=view&id=1u8kF37ystoLp3JMLaDdROAtsKffVP4_5' width=\"800\">\n",
    "-->\n",
    "4. *Hysteresis*:  El paso final. Canny utiliza dos umbrales (superior e inferior) para determinar los píxeles de borde:\n",
    "\n",
    "    - Si el nivel de gris de un píxel candidato de la imagen de gradiente es superior al umbral superior, el píxel se acepta como borde.\n",
    "    - Si el nivel de gris de un píxel candidato de la imagen de gradiente es inferior al umbral inferior, se rechaza.\n",
    "    - Si el nivel de gris de un píxel candidato de la imagen de gradiente está entre los dos umbrales, entonces será aceptado sólo si está conectado a un píxel que está por encima del umbral superior y rechazado en caso contrario.\n",
    "\n",
    " \n",
    "<img src=\"./imagenes/hysteresis.png\" width=\"800\">\n",
    "\n",
    "<!--  \n",
    "<img src='https://drive.google.com/uc?export=view&id=1jDhV-augcs22fxtVsHOfcO4tq4dsbSBd' width=\"800\">\n",
    "-->\n",
    "\n",
    "El algoritmo puede repetirse con diferente nivel de suavizado (cambiando el sigma del operador DroG). Diferentes sigma producen bordes en diferentes características espaciales."
   ]
  },
  {
   "cell_type": "markdown",
   "metadata": {
    "id": "D1DEUaxFeFhB"
   },
   "source": [
    "### **<span style=\"color:green\"><b><i>Ejercicio 7: El enormemente popular Algoritmo de Canny</i></b></span>**  (1.25 puntos)\n",
    "\n",
    "Completa `canny_testing()`, que aplica el algoritmo de Canny a una imagen y a una versión suavizada de la misma *(ten en cuenta que la implementación de Canny de OpenCV no aplica el suavizado gaussiano)*. Luego ambas se muestran junto a la imagen original. Toma como entrada una imagen, los umbrales Canny inferior y superior, y los parámetros del filtro gaussiano.\n",
    "\n",
    "*Nota: usa `gaussian_smoothing` para desenfocar la imagen.*\n",
    "\n",
    "*Tip: OpenCV define el algoritmo Canny como [cv2.Canny()](https://docs.opencv.org/2.4/modules/imgproc/doc/feature_detection.html?highlight=canny)*"
   ]
  },
  {
   "cell_type": "code",
   "execution_count": null,
   "metadata": {
    "id": "VCAWki6OeIlk"
   },
   "outputs": [],
   "source": [
    "# ASSIGNMENT 7\n",
    "# Implementar una función que aplique el operador Canny a una imagen de entrada y a una versión desenfocada de la misma.\n",
    "# Muestra un gráfico 1x3 con la imagen original y las dos imágenes de bordes resultantes.\n",
    "# Entradas: imagen, tamaño del kernel Laplaciano, sigma y tamaño del kernel Gaussiano\n",
    "def canny_testing(image, lower_threshold, upper_threshold, sigma, w_gaussian):\n",
    "    \"\"\" Aplica el algoritmo Canny a una imagen.\n",
    "\n",
    "        Args:\n",
    "            image: Imagen de entrada a binarizar\n",
    "            lower_threshold: valor inferior de la histéresis\n",
    "            upper_threshold: valor superior de la histéresis\n",
    "            sigma: desviación estándar de la distribución gaussiana\n",
    "            w_gaussian: Tamaño de apertura del kernel gaussiano\n",
    "    \"\"\"\n",
    "\n",
    "    # Desenfocar imagen\n",
    "\n",
    "\n",
    "    # Aplicar Canny a la imagen original\n",
    "\n",
    "\n",
    "    # Aplicar Canny a la imagen suavizada\n",
    "\n",
    "\n",
    "    # Mostrar imagen inicial\n",
    "\n",
    "\n",
    "    # Mostrar Canny sin desenfoque\n",
    "\n",
    "\n",
    "    # Mostrar Canny con desenfoque"
   ]
  },
  {
   "cell_type": "markdown",
   "metadata": {
    "id": "74NEcGVVeLT_"
   },
   "source": [
    "Entre los múltiples parámetros de este algoritmo, es interesante comprobar su rendimiento con distintos niveles de suavizado (cambiando el sigma del operador DroG). Diferentes sigma producen bordes en diferentes características espaciales. **Pruebe el efecto de este y otros parámetros** jugando con parámetros interactivos.$\\\\[5pt]$      \n"
   ]
  },
  {
   "cell_type": "code",
   "execution_count": null,
   "metadata": {
    "id": "vad0zH0teOAX"
   },
   "outputs": [],
   "source": [
    "# Leer una imagen\n",
    "image = cv2.imread(images_path + 'medical_2.jpg', 0)\n",
    "\n",
    "# Interactuar con los parámetros\n",
    "interact(canny_testing, image=fixed(image), lower_threshold=(0,260,20), upper_threshold=(0,260,20), sigma=(1,3,0.1), w_gaussian=(1,3,1))"
   ]
  },
  {
   "cell_type": "markdown",
   "metadata": {
    "id": "NwiEc-lceR9S"
   },
   "source": [
    "### <font color=\"blue\"><b><i>Pensándolo bien (2)</i></b></font>\n",
    "\n",
    "Ahora, **responde a las siguientes preguntas**:\n",
    "\n",
    "- ¿Se puede aplicar Canny sin un suavizado previo?\n",
    "  \n",
    "    <p style=\"margin: 4px 0px 6px 5px; color:blue\"><i>Pon tu respuesta aquí!</i></p>    \n",
    "- ¿Cuál es un valor *bueno* para ambos umbrales?\n",
    "  \n",
    "    <p style=\"margin: 4px 0px 6px 5px; color:blue\"><i>Pon tu respuesta aquí!</i></p>\n",
    "    \n",
    "- Ahora que has probado un buen número de métodos de detección de bordes, **¿cuál es tu favorito y por qué?**.\n",
    "\n",
    "    <p style=\"margin: 4px 0px 6px 5px; color:blue\"><i>Pon tu respuesta aquí!</i></p>"
   ]
  },
  {
   "cell_type": "markdown",
   "metadata": {},
   "source": [
    "### **<span style=\"color:green\"><b><i>Ejercicio 8: El Filtrado bilateral</i></b></span>**  (1.5 puntos)"
   ]
  },
  {
   "cell_type": "markdown",
   "metadata": {},
   "source": [
    "Usa la funcion ``cv2.bilateralFilter()`` de OpenCV p para llevar a cabo el filtrado bilateral de una imagen. Selecciona cuidadosamente los parámetros apropiados y aplícalo tanto a las imágenes ``sillagauss.bmp`` y ``sillaimp.bmp``, así como a otras de tu elección.\n",
    "\n",
    "En el contexto del filtrado bilateral,  $\\sigma_r$ a la varianza de la gaussiana que controla la ponderación debida a la diferencia entre los valores de los píxeles, mientras que $\\sigma_s$ a la varianza de la gaussiana que controla la ponderación debida a la posición de los píxeles. A continuación, se plantean algunas interrogantes:\n",
    "* ¿¿Cuál es el comportamiento del filtro bilateral cuando la varianza $\\sigma_r$ es muy elevada? ¿En este caso qué ocurre si $\\sigma_s$ es alta o baja?\n",
    "* ¿Cómo se comporta el filtro cuando $\\sigma_r$ es muy baja? ¿En este caso cómo se comporta el filtro dependiendo si $\\sigma_s$ es alta o baja?\n",
    "\n",
    "Se espera que se muestren y discutan los resultados obtenidos al variar los valores de los parámetros y al aplicar el filtro sucesivamente en múltiples ocasiones. Compáralos con los obtenidos usando el filtro gaussiano para evaluar su efectividad en la mejora de la calidad de las imágenes."
   ]
  },
  {
   "cell_type": "markdown",
   "metadata": {},
   "source": [
    "### **<span style=\"color:green\"><b><i>Ejercicio 9: Transformada Hough</i></b></span>**  (1.5 puntos)"
   ]
  },
  {
   "cell_type": "markdown",
   "metadata": {},
   "source": [
    "Emplea la transformada Hough para encontrar segmentos rectilíneos en la imagen ``pasillo.jpg``. Para extraer los bordes de la imagen puedes utilizar las funciones escritas en las secciones anteriores o usar algunas de las funciones que tiene opencv para extraer bordes (por ejemplo ``cv2.Canny``. Si usas esta función de openCV como ``cv2.Canny`` explica por qué pusiste los  valores de los parámetros que empleaste.) Utiliza la función ``cv2.HoughLinesP()`` de OpenCV.\n",
    "\n",
    "Es fundamental realizar un análisis exhaustivo del rendimiento del algoritmo para diferentes valores de los parámetros de la función de transformada de Hough, así como para evaluar los efectos de los filtros utilizados en la extracción de bordes. Discute estos resultados. Pinta los resultados sobre la imagen (puedes guiarte como ejemplo de lo mostrado en, https://docs.opencv.org/3.0-beta/doc/py_tutorials/py_imgproc/py_houghlines/py_houghlines.html)."
   ]
  },
  {
   "cell_type": "markdown",
   "metadata": {
    "id": "ZJJI0fIWeVA0"
   },
   "source": [
    "## Conclusion\n",
    "\n",
    "¡Perfecto! Ahora tienes experiencia en más aplicaciones del operador de convolución. En este Notebook tú:\n",
    "\n",
    "- Aprendiste operadores básicos para la detección de bordes que realizan una **aproximación discreta de un operador de gradiente**.\n",
    "- Aprendiste **cómo construir un kernel DroG** de manera eficiente.\n",
    "- Experimentado un poco con ellos en el contexto de las imágenes médicas, descubriendo algunas utilidades reales e importantes.\n",
    "- Los operadores de Laplace y LoG y la importancia del suavizado.\n",
    "- cómo utilizar el algoritmo de Canny, y cómo se implementa."
   ]
  },
  {
   "cell_type": "markdown",
   "metadata": {
    "id": "mLuq7rU4eX0d"
   },
   "source": [
    "## Extra\n",
    "\n",
    "El algoritmo Canny es un algoritmo muy conocido en este campo, se utiliza en muchas tecnologías actuales. Aunque sigue obteniendo muy buenos resultados, el artículo original fue publicado en 1986 por John Canny<sup>[[1]](#cite1)</sup>."
   ]
  },
  {
   "cell_type": "markdown",
   "metadata": {
    "id": "c6i5C9gxebOW"
   },
   "source": [
    "## Referencias\n",
    "\n",
    "<a name=\"myfootnote1\">[1]</a>: CANNY, John. [A computational approach to edge detection.](https://www.google.com/url?sa=t&rct=j&q=&esrc=s&source=web&cd=10&ved=2ahUKEwiU9uyiganoAhWNDWMBHducCvsQFjAJegQIBhAB&url=http%3A%2F%2Fciteseerx.ist.psu.edu%2Fviewdoc%2Fdownload%3Fdoi%3D10.1.1.420.3300%26rep%3Drep1%26type%3Dpdf&usg=AOvVaw3tsKoxnc3qnS7bji3HmvQc). IEEE Transactions on pattern analysis and machine intelligence, 1986, no 6, p. 679-698."
   ]
  }
 ],
 "metadata": {
  "colab": {
   "provenance": []
  },
  "kernelspec": {
   "display_name": "Python 3 (ipykernel)",
   "language": "python",
   "name": "python3"
  },
  "language_info": {
   "codemirror_mode": {
    "name": "ipython",
    "version": 3
   },
   "file_extension": ".py",
   "mimetype": "text/x-python",
   "name": "python",
   "nbconvert_exporter": "python",
   "pygments_lexer": "ipython3",
   "version": "3.10.11"
  },
  "varInspector": {
   "cols": {
    "lenName": 16,
    "lenType": 16,
    "lenVar": 40
   },
   "kernels_config": {
    "python": {
     "delete_cmd_postfix": "",
     "delete_cmd_prefix": "del ",
     "library": "var_list.py",
     "varRefreshCmd": "print(var_dic_list())"
    },
    "r": {
     "delete_cmd_postfix": ") ",
     "delete_cmd_prefix": "rm(",
     "library": "var_list.r",
     "varRefreshCmd": "cat(var_dic_list()) "
    }
   },
   "position": {
    "height": "391.183px",
    "left": "1207.42px",
    "right": "20px",
    "top": "83px",
    "width": "488.333px"
   },
   "types_to_exclude": [
    "module",
    "function",
    "builtin_function_or_method",
    "instance",
    "_Feature"
   ],
   "window_display": false
  }
 },
 "nbformat": 4,
 "nbformat_minor": 1
}
